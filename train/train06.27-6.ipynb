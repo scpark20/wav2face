{
 "cells": [
  {
   "cell_type": "code",
   "execution_count": 1,
   "id": "c79d0b0b",
   "metadata": {},
   "outputs": [],
   "source": [
    "import os\n",
    "os.chdir('../')\n",
    "\n",
    "import warnings\n",
    "warnings.filterwarnings('ignore')"
   ]
  },
  {
   "cell_type": "code",
   "execution_count": 3,
   "id": "6665403e",
   "metadata": {
    "scrolled": true
   },
   "outputs": [
    {
     "name": "stdout",
     "output_type": "stream",
     "text": [
      "Tue Jun 27 23:10:02 2023       \n",
      "+-----------------------------------------------------------------------------+\n",
      "| NVIDIA-SMI 515.105.01   Driver Version: 515.105.01   CUDA Version: 11.7     |\n",
      "|-------------------------------+----------------------+----------------------+\n",
      "| GPU  Name        Persistence-M| Bus-Id        Disp.A | Volatile Uncorr. ECC |\n",
      "| Fan  Temp  Perf  Pwr:Usage/Cap|         Memory-Usage | GPU-Util  Compute M. |\n",
      "|                               |                      |               MIG M. |\n",
      "|===============================+======================+======================|\n",
      "|   0  NVIDIA RTX A5000    Off  | 00000000:1B:00.0 Off |                    0 |\n",
      "| 30%   29C    P8    16W / 230W |    475MiB / 23028MiB |      0%      Default |\n",
      "|                               |                      |                  N/A |\n",
      "+-------------------------------+----------------------+----------------------+\n",
      "|   1  NVIDIA RTX A5000    Off  | 00000000:1C:00.0 Off |                  Off |\n",
      "| 30%   29C    P8    17W / 230W |   2229MiB / 24564MiB |      0%      Default |\n",
      "|                               |                      |                  N/A |\n",
      "+-------------------------------+----------------------+----------------------+\n",
      "|   2  NVIDIA RTX A5000    Off  | 00000000:1D:00.0 Off |                  Off |\n",
      "| 30%   28C    P8    17W / 230W |      8MiB / 24564MiB |      0%      Default |\n",
      "|                               |                      |                  N/A |\n",
      "+-------------------------------+----------------------+----------------------+\n",
      "|   3  NVIDIA RTX A5000    Off  | 00000000:1E:00.0 Off |                  Off |\n",
      "| 30%   28C    P8    20W / 230W |      8MiB / 24564MiB |      0%      Default |\n",
      "|                               |                      |                  N/A |\n",
      "+-------------------------------+----------------------+----------------------+\n",
      "|   4  NVIDIA RTX A5000    Off  | 00000000:89:00.0 Off |                  Off |\n",
      "| 30%   53C    P2    75W / 230W |   6983MiB / 24564MiB |      0%      Default |\n",
      "|                               |                      |                  N/A |\n",
      "+-------------------------------+----------------------+----------------------+\n",
      "|   5  NVIDIA RTX A5000    Off  | 00000000:8A:00.0 Off |                  Off |\n",
      "| 30%   50C    P2    65W / 230W |  10581MiB / 24564MiB |      0%      Default |\n",
      "|                               |                      |                  N/A |\n",
      "+-------------------------------+----------------------+----------------------+\n",
      "|   6  NVIDIA RTX A5000    Off  | 00000000:8B:00.0 Off |                  Off |\n",
      "| 30%   29C    P8    18W / 230W |      8MiB / 24564MiB |      0%      Default |\n",
      "|                               |                      |                  N/A |\n",
      "+-------------------------------+----------------------+----------------------+\n",
      "|   7  NVIDIA RTX A5000    Off  | 00000000:8C:00.0 Off |                  Off |\n",
      "| 30%   28C    P8    17W / 230W |      8MiB / 24564MiB |      0%      Default |\n",
      "|                               |                      |                  N/A |\n",
      "+-------------------------------+----------------------+----------------------+\n",
      "                                                                               \n",
      "+-----------------------------------------------------------------------------+\n",
      "| Processes:                                                                  |\n",
      "|  GPU   GI   CI        PID   Type   Process name                  GPU Memory |\n",
      "|        ID   ID                                                   Usage      |\n",
      "|=============================================================================|\n",
      "|    0   N/A  N/A      3840      G   /usr/lib/xorg/Xorg                  4MiB |\n",
      "|    0   N/A  N/A   2129908      C   ...onda3/envs/ste/bin/python      467MiB |\n",
      "|    1   N/A  N/A      3840      G   /usr/lib/xorg/Xorg                  4MiB |\n",
      "|    1   N/A  N/A   1399825      C   ...hyun/anaconda3/bin/python     2221MiB |\n",
      "|    2   N/A  N/A      3840      G   /usr/lib/xorg/Xorg                  4MiB |\n",
      "|    3   N/A  N/A      3840      G   /usr/lib/xorg/Xorg                  4MiB |\n",
      "|    4   N/A  N/A      3840      G   /usr/lib/xorg/Xorg                  4MiB |\n",
      "|    4   N/A  N/A   2135967      C   ...nda3/envs/ste2/bin/python     6975MiB |\n",
      "|    5   N/A  N/A      3840      G   /usr/lib/xorg/Xorg                  4MiB |\n",
      "|    5   N/A  N/A   2143509      C   ...nda3/envs/ste2/bin/python    10573MiB |\n",
      "|    6   N/A  N/A      3840      G   /usr/lib/xorg/Xorg                  4MiB |\n",
      "|    7   N/A  N/A      3840      G   /usr/lib/xorg/Xorg                  4MiB |\n",
      "+-----------------------------------------------------------------------------+\n"
     ]
    }
   ],
   "source": [
    "import torch\n",
    "import torch.nn as nn\n",
    "import torch.nn.functional as F\n",
    "import numpy as np\n",
    "import os\n",
    "\n",
    "!nvidia-smi\n",
    "os.environ[\"CUDA_VISIBLE_DEVICES\"]=\"2\""
   ]
  },
  {
   "cell_type": "markdown",
   "id": "cee05e12",
   "metadata": {},
   "source": [
    "### Hyperparams"
   ]
  },
  {
   "cell_type": "code",
   "execution_count": 4,
   "id": "fb821737",
   "metadata": {},
   "outputs": [],
   "source": [
    "n_mels = 16\n",
    "n_outputs = 61\n",
    "n_frames = 400"
   ]
  },
  {
   "cell_type": "markdown",
   "id": "58c54e68",
   "metadata": {},
   "source": [
    "### Model"
   ]
  },
  {
   "cell_type": "code",
   "execution_count": 5,
   "id": "cedcf798",
   "metadata": {},
   "outputs": [
    {
     "name": "stdout",
     "output_type": "stream",
     "text": [
      "done\n"
     ]
    }
   ],
   "source": [
    "from model.model_conv_flow_unconditional2 import Model\n",
    "from utils.util import *\n",
    "from tensorboardX import SummaryWriter\n",
    "\n",
    "step = 0\n",
    "device = 'cuda:0'\n",
    "\n",
    "# Model\n",
    "model = Model(channels=n_outputs, cond_channels=n_mels, hidden_channels=256, n_layers=6, n_flows=8)\n",
    "model = model.to(device)\n",
    "optimizer = torch.optim.AdamW(model.parameters(), lr=1e-4)\n",
    "print('done')"
   ]
  },
  {
   "cell_type": "markdown",
   "id": "31748b8c",
   "metadata": {},
   "source": [
    "### Load"
   ]
  },
  {
   "cell_type": "code",
   "execution_count": 6,
   "id": "998d7f8f",
   "metadata": {},
   "outputs": [
    {
     "name": "stdout",
     "output_type": "stream",
     "text": [
      "total 0\r\n"
     ]
    }
   ],
   "source": [
    "save_dir = '/data/scpark/save/lips/train06.27-6/'\n",
    "!mkdir -p $save_dir\n",
    "!ls -lt $save_dir\n",
    "\n",
    "writer = SummaryWriter(save_dir)\n",
    "\n",
    "if False:\n",
    "    step, model, _, optimizer = load(save_dir, 11000, model, None, optimizer)"
   ]
  },
  {
   "cell_type": "markdown",
   "id": "b71d7b3c",
   "metadata": {},
   "source": [
    "### Dataset"
   ]
  },
  {
   "cell_type": "code",
   "execution_count": 7,
   "id": "8a8aa62c",
   "metadata": {
    "scrolled": true
   },
   "outputs": [
    {
     "name": "stdout",
     "output_type": "stream",
     "text": [
      "39\n",
      "/data/speech/digital_human/preprocessed/MH_ARKit_001_1_iPhone_raw.npy\n",
      "/data/speech/digital_human/preprocessed/MH_ARKit_001_2_iPhone_raw.npy\n",
      "/data/speech/digital_human/preprocessed/MH_ARKit_001_3_iPhone_raw.npy\n",
      "/data/speech/digital_human/preprocessed/MH_ARKit_001_4_iPhone_raw.npy\n",
      "/data/speech/digital_human/preprocessed/MH_ARKit_001_5_iPhone_raw.npy\n",
      "/data/speech/digital_human/preprocessed/MH_ARKit_001_6_iPhone_raw.npy\n",
      "/data/speech/digital_human/preprocessed/MH_ARKit_001_7_iPhone_raw.npy\n",
      "/data/speech/digital_human/preprocessed/MH_ARKit_001_8_iPhone_raw.npy\n",
      "/data/speech/digital_human/preprocessed/MH_ARKit_001_9_iPhone_raw.npy\n",
      "/data/speech/digital_human/preprocessed/MH_ARKit_002_10_iPhone_raw.npy\n",
      "/data/speech/digital_human/preprocessed/MH_ARKit_002_1_iPhone_raw.npy\n",
      "/data/speech/digital_human/preprocessed/MH_ARKit_002_2_iPhone_raw.npy\n",
      "/data/speech/digital_human/preprocessed/MH_ARKit_002_3_iPhone_raw.npy\n",
      "/data/speech/digital_human/preprocessed/MH_ARKit_002_4_iPhone_raw.npy\n",
      "/data/speech/digital_human/preprocessed/MH_ARKit_002_5_iPhone_raw.npy\n",
      "/data/speech/digital_human/preprocessed/MH_ARKit_002_6_iPhone_raw.npy\n",
      "/data/speech/digital_human/preprocessed/MH_ARKit_002_7_iPhone_raw.npy\n",
      "/data/speech/digital_human/preprocessed/MH_ARKit_002_8_iPhone_raw.npy\n",
      "/data/speech/digital_human/preprocessed/MH_ARKit_002_9_iPhone_raw.npy\n",
      "/data/speech/digital_human/preprocessed/MH_ARKit_003_10_iPhone_raw.npy\n",
      "/data/speech/digital_human/preprocessed/MH_ARKit_003_11_iPhone_raw.npy\n",
      "/data/speech/digital_human/preprocessed/MH_ARKit_003_12_iPhone_raw.npy\n",
      "/data/speech/digital_human/preprocessed/MH_ARKit_003_1_iPhone_raw.npy\n",
      "/data/speech/digital_human/preprocessed/MH_ARKit_003_2_iPhone_raw.npy\n",
      "/data/speech/digital_human/preprocessed/MH_ARKit_003_3_iPhone_raw.npy\n",
      "/data/speech/digital_human/preprocessed/MH_ARKit_003_4_iPhone_raw.npy\n",
      "/data/speech/digital_human/preprocessed/MH_ARKit_003_5_iPhone_raw.npy\n",
      "/data/speech/digital_human/preprocessed/MH_ARKit_003_8_iPhone_raw.npy\n",
      "/data/speech/digital_human/preprocessed/MH_ARKit_003_9_iPhone_raw.npy\n",
      "/data/speech/digital_human/preprocessed/MH_ARKit_004_10_iPhone_raw.npy\n",
      "/data/speech/digital_human/preprocessed/MH_ARKit_004_1_iPhone_raw.npy\n",
      "/data/speech/digital_human/preprocessed/MH_ARKit_004_2_iPhone_raw.npy\n",
      "/data/speech/digital_human/preprocessed/MH_ARKit_004_3_iPhone_raw.npy\n",
      "/data/speech/digital_human/preprocessed/MH_ARKit_004_4_iPhone_raw.npy\n",
      "/data/speech/digital_human/preprocessed/MH_ARKit_004_5_iPhone_raw.npy\n",
      "/data/speech/digital_human/preprocessed/MH_ARKit_004_6_iPhone_raw.npy\n",
      "/data/speech/digital_human/preprocessed/MH_ARKit_004_7_iPhone_raw.npy\n",
      "/data/speech/digital_human/preprocessed/MH_ARKit_004_8_iPhone_raw.npy\n",
      "/data/speech/digital_human/preprocessed/MH_ARKit_004_9_iPhone_raw.npy\n",
      "36 3\n"
     ]
    }
   ],
   "source": [
    "import os\n",
    "from data.arkit_dataset import LipsDataset, CombinedDataset, CombinedCollate\n",
    "\n",
    "root_dir = '/data/speech/digital_human/preprocessed/'\n",
    "files = sorted([os.path.join(root_dir, file) for file in os.listdir(root_dir)])\n",
    "print(len(files))\n",
    "\n",
    "train_datasets = []\n",
    "test_datasets = []\n",
    "\n",
    "for file in files:\n",
    "    print(file)\n",
    "    dataset = LipsDataset(file, n_mels, n_frames)\n",
    "    if '_10_' in file:\n",
    "        test_datasets.append(dataset)\n",
    "    else:\n",
    "        train_datasets.append(dataset)\n",
    "print(len(train_datasets), len(test_datasets))"
   ]
  },
  {
   "cell_type": "code",
   "execution_count": 8,
   "id": "4bc7cac0",
   "metadata": {},
   "outputs": [
    {
     "name": "stdout",
     "output_type": "stream",
     "text": [
      "done\n"
     ]
    }
   ],
   "source": [
    "train_loader = torch.utils.data.DataLoader(CombinedDataset(train_datasets), \n",
    "                                           num_workers=16, shuffle=True, batch_size=32, collate_fn=CombinedCollate())\n",
    "test_loader = torch.utils.data.DataLoader(CombinedDataset(test_datasets), \n",
    "                                          num_workers=10, shuffle=True, batch_size=10, collate_fn=CombinedCollate())\n",
    "print('done')"
   ]
  },
  {
   "cell_type": "code",
   "execution_count": 10,
   "id": "111de2be",
   "metadata": {},
   "outputs": [],
   "source": [
    "def logit(x):\n",
    "    y = torch.clamp(x, min=1e-8, max=1 - 1e-8)\n",
    "    y = torch.logit(y)\n",
    "    return y"
   ]
  },
  {
   "cell_type": "code",
   "execution_count": null,
   "id": "03238ce2",
   "metadata": {
    "scrolled": false
   },
   "outputs": [],
   "source": [
    "from IPython import display\n",
    "import librosa.display\n",
    "import matplotlib.pyplot as plt\n",
    "\n",
    "isnan = False\n",
    "while True:\n",
    "    if isnan:\n",
    "        break\n",
    "    for batch in train_loader:\n",
    "        inputs = torch.Tensor(batch['mel']).transpose(1, 2).to(device)\n",
    "        targets = torch.Tensor(batch['blend']).transpose(1, 2).to(device)\n",
    "        targets = logit(targets)\n",
    "        \n",
    "        model.train()\n",
    "        model.zero_grad()\n",
    "        outputs = model(targets, inputs)\n",
    "        \n",
    "        loss = 0\n",
    "        for key in outputs.keys():\n",
    "            if 'loss' in key:\n",
    "                loss += outputs[key]\n",
    "                print(key, outputs[key].item())\n",
    "        if torch.isnan(loss):\n",
    "            isnan = True\n",
    "            break\n",
    "        loss.backward()\n",
    "        optimizer.step()\n",
    "        print(step, loss.item())\n",
    "        \n",
    "        if step % 100 == 0:\n",
    "            writer.add_scalar('train_loss', loss.item(), step)\n",
    "        \n",
    "        if step % 100 == 0:\n",
    "            display.clear_output()\n",
    "            \n",
    "            losses = []\n",
    "            for i, batch in enumerate(test_loader):\n",
    "                if i >= 10:\n",
    "                    break\n",
    "                    \n",
    "                inputs = torch.Tensor(batch['mel']).transpose(1, 2).to(device)\n",
    "                targets = torch.Tensor(batch['blend']).transpose(1, 2).to(device)\n",
    "                targets = logit(targets)\n",
    "\n",
    "                model.eval()\n",
    "                with torch.no_grad():\n",
    "                    outputs = model(targets, inputs)\n",
    "                    \n",
    "                loss = 0\n",
    "                for key in outputs.keys():\n",
    "                    if 'loss' in key:\n",
    "                        loss += outputs[key]\n",
    "                print('test :', i, loss.item())\n",
    "                losses.append(loss)        \n",
    "            \n",
    "            test_loss = torch.stack(losses).mean().item()\n",
    "            print('test_loss :', test_loss)\n",
    "            writer.add_scalar('test_loss', test_loss, step)\n",
    "            \n",
    "            plt.figure(figsize=[18, 4])\n",
    "            librosa.display.specshow(torch.sigmoid(targets[0]).data.cpu().numpy(), cmap='magma')\n",
    "            plt.show()\n",
    "            \n",
    "            model.eval()\n",
    "            with torch.no_grad():\n",
    "                y_pred = model.inference(inputs)\n",
    "\n",
    "            plt.figure(figsize=[18, 4])\n",
    "            librosa.display.specshow(torch.sigmoid(y_pred[0]).data.cpu().numpy(), cmap='magma')\n",
    "            plt.show()\n",
    "            \n",
    "            for i in [20, 37]:\n",
    "                plt.figure(figsize=[18, 2])\n",
    "                plt.title(str(i))\n",
    "                plt.plot(targets[0].data.cpu().numpy()[i])\n",
    "                plt.plot(y_pred[0].data.cpu().numpy()[i])\n",
    "                plt.show()\n",
    "\n",
    "        if step % 1000 == 0:\n",
    "            save(save_dir, step, model, None, optimizer)\n",
    "    \n",
    "        step += 1"
   ]
  },
  {
   "cell_type": "code",
   "execution_count": null,
   "id": "e1c85fda",
   "metadata": {},
   "outputs": [],
   "source": [
    "save(save_dir, step, model, None, optimizer)"
   ]
  },
  {
   "cell_type": "code",
   "execution_count": null,
   "id": "1166d67e",
   "metadata": {},
   "outputs": [],
   "source": [
    "print('done')"
   ]
  },
  {
   "cell_type": "code",
   "execution_count": null,
   "id": "ce39d126",
   "metadata": {},
   "outputs": [],
   "source": []
  },
  {
   "cell_type": "code",
   "execution_count": null,
   "id": "85225e8b",
   "metadata": {},
   "outputs": [],
   "source": []
  }
 ],
 "metadata": {
  "kernelspec": {
   "display_name": "ste2",
   "language": "python",
   "name": "ste2"
  },
  "language_info": {
   "codemirror_mode": {
    "name": "ipython",
    "version": 3
   },
   "file_extension": ".py",
   "mimetype": "text/x-python",
   "name": "python",
   "nbconvert_exporter": "python",
   "pygments_lexer": "ipython3",
   "version": "3.9.15"
  }
 },
 "nbformat": 4,
 "nbformat_minor": 5
}
