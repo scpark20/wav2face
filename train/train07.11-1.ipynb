{
 "cells": [
  {
   "cell_type": "code",
   "execution_count": 1,
   "id": "c79d0b0b",
   "metadata": {},
   "outputs": [],
   "source": [
    "import os\n",
    "os.chdir('../')\n",
    "\n",
    "import warnings\n",
    "warnings.filterwarnings('ignore')"
   ]
  },
  {
   "cell_type": "code",
   "execution_count": 2,
   "id": "6665403e",
   "metadata": {
    "scrolled": true
   },
   "outputs": [
    {
     "name": "stdout",
     "output_type": "stream",
     "text": [
      "Tue Jul 11 21:19:18 2023       \n",
      "+-----------------------------------------------------------------------------+\n",
      "| NVIDIA-SMI 525.125.06   Driver Version: 525.125.06   CUDA Version: 12.0     |\n",
      "|-------------------------------+----------------------+----------------------+\n",
      "| GPU  Name        Persistence-M| Bus-Id        Disp.A | Volatile Uncorr. ECC |\n",
      "| Fan  Temp  Perf  Pwr:Usage/Cap|         Memory-Usage | GPU-Util  Compute M. |\n",
      "|                               |                      |               MIG M. |\n",
      "|===============================+======================+======================|\n",
      "|   0  NVIDIA RTX A5000    Off  | 00000000:1B:00.0 Off |                    0 |\n",
      "| 30%   28C    P8    13W / 230W |   1836MiB / 23028MiB |      0%      Default |\n",
      "|                               |                      |                  N/A |\n",
      "+-------------------------------+----------------------+----------------------+\n",
      "|   1  NVIDIA RTX A5000    Off  | 00000000:1C:00.0 Off |                  Off |\n",
      "| 30%   28C    P8    15W / 230W |   2866MiB / 24564MiB |      0%      Default |\n",
      "|                               |                      |                  N/A |\n",
      "+-------------------------------+----------------------+----------------------+\n",
      "|   2  NVIDIA RTX A5000    Off  | 00000000:1D:00.0 Off |                  Off |\n",
      "| 30%   28C    P8    16W / 230W |   2496MiB / 24564MiB |      0%      Default |\n",
      "|                               |                      |                  N/A |\n",
      "+-------------------------------+----------------------+----------------------+\n",
      "|   3  NVIDIA RTX A5000    Off  | 00000000:1E:00.0 Off |                  Off |\n",
      "| 30%   28C    P8    18W / 230W |   3122MiB / 24564MiB |      0%      Default |\n",
      "|                               |                      |                  N/A |\n",
      "+-------------------------------+----------------------+----------------------+\n",
      "|   4  NVIDIA RTX A5000    Off  | 00000000:89:00.0 Off |                  Off |\n",
      "| 30%   36C    P8    20W / 230W |      8MiB / 24564MiB |      0%      Default |\n",
      "|                               |                      |                  N/A |\n",
      "+-------------------------------+----------------------+----------------------+\n",
      "|   5  NVIDIA RTX A5000    Off  | 00000000:8A:00.0 Off |                  Off |\n",
      "| 30%   28C    P8    17W / 230W |   1320MiB / 24564MiB |      0%      Default |\n",
      "|                               |                      |                  N/A |\n",
      "+-------------------------------+----------------------+----------------------+\n",
      "|   6  NVIDIA RTX A5000    Off  | 00000000:8B:00.0 Off |                  Off |\n",
      "| 30%   28C    P8    18W / 230W |    412MiB / 24564MiB |      0%      Default |\n",
      "|                               |                      |                  N/A |\n",
      "+-------------------------------+----------------------+----------------------+\n",
      "|   7  NVIDIA RTX A5000    Off  | 00000000:8C:00.0 Off |                  Off |\n",
      "| 30%   28C    P8    16W / 230W |   3576MiB / 24564MiB |      0%      Default |\n",
      "|                               |                      |                  N/A |\n",
      "+-------------------------------+----------------------+----------------------+\n",
      "                                                                               \n",
      "+-----------------------------------------------------------------------------+\n",
      "| Processes:                                                                  |\n",
      "|  GPU   GI   CI        PID   Type   Process name                  GPU Memory |\n",
      "|        ID   ID                                                   Usage      |\n",
      "|=============================================================================|\n",
      "|    0   N/A  N/A      3569      G   /usr/lib/xorg/Xorg                  4MiB |\n",
      "|    0   N/A  N/A    242859      C   ...onda3/envs/ste/bin/python      762MiB |\n",
      "|    0   N/A  N/A    393011      C   ...onda3/envs/ste/bin/python     1066MiB |\n",
      "|    1   N/A  N/A      3569      G   /usr/lib/xorg/Xorg                  4MiB |\n",
      "|    1   N/A  N/A     10954      C   ...hyun/anaconda3/bin/python     2858MiB |\n",
      "|    2   N/A  N/A      3569      G   /usr/lib/xorg/Xorg                  4MiB |\n",
      "|    2   N/A  N/A     10640      C   ...hyun/anaconda3/bin/python     2488MiB |\n",
      "|    3   N/A  N/A      3569      G   /usr/lib/xorg/Xorg                  4MiB |\n",
      "|    3   N/A  N/A    218422      C   ...nda3/envs/byte/bin/python     3114MiB |\n",
      "|    4   N/A  N/A      3569      G   /usr/lib/xorg/Xorg                  4MiB |\n",
      "|    5   N/A  N/A      3569      G   /usr/lib/xorg/Xorg                  4MiB |\n",
      "|    5   N/A  N/A    245538      C   ...onda3/envs/ste/bin/python     1312MiB |\n",
      "|    6   N/A  N/A      3569      G   /usr/lib/xorg/Xorg                  4MiB |\n",
      "|    6   N/A  N/A   2736103      C   ...3/envs/bytesep/bin/python      404MiB |\n",
      "|    7   N/A  N/A      3569      G   /usr/lib/xorg/Xorg                  4MiB |\n",
      "|    7   N/A  N/A    343993      C   ...3/envs/bytesep/bin/python     3568MiB |\n",
      "+-----------------------------------------------------------------------------+\n"
     ]
    }
   ],
   "source": [
    "import torch\n",
    "import torch.nn as nn\n",
    "import torch.nn.functional as F\n",
    "import numpy as np\n",
    "import os\n",
    "\n",
    "!nvidia-smi\n",
    "os.environ[\"CUDA_VISIBLE_DEVICES\"]=\"4\""
   ]
  },
  {
   "cell_type": "markdown",
   "id": "cee05e12",
   "metadata": {},
   "source": [
    "### Hyperparams"
   ]
  },
  {
   "cell_type": "code",
   "execution_count": 3,
   "id": "fb821737",
   "metadata": {},
   "outputs": [],
   "source": [
    "n_mels = 80\n",
    "n_outputs = 61\n",
    "n_frames = 400"
   ]
  },
  {
   "cell_type": "markdown",
   "id": "58c54e68",
   "metadata": {},
   "source": [
    "### Model"
   ]
  },
  {
   "cell_type": "code",
   "execution_count": 4,
   "id": "cedcf798",
   "metadata": {},
   "outputs": [
    {
     "name": "stdout",
     "output_type": "stream",
     "text": [
      "done\n"
     ]
    }
   ],
   "source": [
    "from model.model_transformer_reg import Model\n",
    "from utils.util import *\n",
    "from tensorboardX import SummaryWriter\n",
    "\n",
    "step = 0\n",
    "device = 'cuda:0'\n",
    "\n",
    "# Model\n",
    "model = Model(in_dim=n_mels, h_dim=512, out_dim=n_outputs)\n",
    "model = model.to(device)\n",
    "optimizer = torch.optim.AdamW(model.parameters(), lr=1e-4)\n",
    "print('done')"
   ]
  },
  {
   "cell_type": "code",
   "execution_count": 5,
   "id": "b18bd076",
   "metadata": {},
   "outputs": [
    {
     "name": "stdout",
     "output_type": "stream",
     "text": [
      "prenet.bias\n",
      "encoder.attn_layers.0.emb_rel_k\n",
      "encoder.attn_layers.0.emb_rel_v\n",
      "encoder.attn_layers.0.conv_q.weight\n",
      "encoder.attn_layers.0.conv_q.bias\n",
      "encoder.attn_layers.0.conv_k.weight\n",
      "encoder.attn_layers.0.conv_k.bias\n",
      "encoder.attn_layers.0.conv_v.weight\n",
      "encoder.attn_layers.0.conv_v.bias\n",
      "encoder.attn_layers.0.conv_o.weight\n",
      "encoder.attn_layers.0.conv_o.bias\n",
      "encoder.attn_layers.1.emb_rel_k\n",
      "encoder.attn_layers.1.emb_rel_v\n",
      "encoder.attn_layers.1.conv_q.weight\n",
      "encoder.attn_layers.1.conv_q.bias\n",
      "encoder.attn_layers.1.conv_k.weight\n",
      "encoder.attn_layers.1.conv_k.bias\n",
      "encoder.attn_layers.1.conv_v.weight\n",
      "encoder.attn_layers.1.conv_v.bias\n",
      "encoder.attn_layers.1.conv_o.weight\n",
      "encoder.attn_layers.1.conv_o.bias\n",
      "encoder.attn_layers.2.emb_rel_k\n",
      "encoder.attn_layers.2.emb_rel_v\n",
      "encoder.attn_layers.2.conv_q.weight\n",
      "encoder.attn_layers.2.conv_q.bias\n",
      "encoder.attn_layers.2.conv_k.weight\n",
      "encoder.attn_layers.2.conv_k.bias\n",
      "encoder.attn_layers.2.conv_v.weight\n",
      "encoder.attn_layers.2.conv_v.bias\n",
      "encoder.attn_layers.2.conv_o.weight\n",
      "encoder.attn_layers.2.conv_o.bias\n",
      "encoder.attn_layers.3.emb_rel_k\n",
      "encoder.attn_layers.3.emb_rel_v\n",
      "encoder.attn_layers.3.conv_q.weight\n",
      "encoder.attn_layers.3.conv_q.bias\n",
      "encoder.attn_layers.3.conv_k.weight\n",
      "encoder.attn_layers.3.conv_k.bias\n",
      "encoder.attn_layers.3.conv_v.weight\n",
      "encoder.attn_layers.3.conv_v.bias\n",
      "encoder.attn_layers.3.conv_o.weight\n",
      "encoder.attn_layers.3.conv_o.bias\n",
      "encoder.attn_layers.4.emb_rel_k\n",
      "encoder.attn_layers.4.emb_rel_v\n",
      "encoder.attn_layers.4.conv_q.weight\n",
      "encoder.attn_layers.4.conv_q.bias\n",
      "encoder.attn_layers.4.conv_k.weight\n",
      "encoder.attn_layers.4.conv_k.bias\n",
      "encoder.attn_layers.4.conv_v.weight\n",
      "encoder.attn_layers.4.conv_v.bias\n",
      "encoder.attn_layers.4.conv_o.weight\n",
      "encoder.attn_layers.4.conv_o.bias\n",
      "encoder.attn_layers.5.emb_rel_k\n",
      "encoder.attn_layers.5.emb_rel_v\n",
      "encoder.attn_layers.5.conv_q.weight\n",
      "encoder.attn_layers.5.conv_q.bias\n",
      "encoder.attn_layers.5.conv_k.weight\n",
      "encoder.attn_layers.5.conv_k.bias\n",
      "encoder.attn_layers.5.conv_v.weight\n",
      "encoder.attn_layers.5.conv_v.bias\n",
      "encoder.attn_layers.5.conv_o.weight\n",
      "encoder.attn_layers.5.conv_o.bias\n",
      "encoder.norm_layers_1.0.gamma\n",
      "encoder.norm_layers_1.0.beta\n",
      "encoder.norm_layers_1.1.gamma\n",
      "encoder.norm_layers_1.1.beta\n",
      "encoder.norm_layers_1.2.gamma\n",
      "encoder.norm_layers_1.2.beta\n",
      "encoder.norm_layers_1.3.gamma\n",
      "encoder.norm_layers_1.3.beta\n",
      "encoder.norm_layers_1.4.gamma\n",
      "encoder.norm_layers_1.4.beta\n",
      "encoder.norm_layers_1.5.gamma\n",
      "encoder.norm_layers_1.5.beta\n",
      "encoder.ffn_layers.0.conv_1.weight\n",
      "encoder.ffn_layers.0.conv_1.bias\n",
      "encoder.ffn_layers.0.conv_2.weight\n",
      "encoder.ffn_layers.0.conv_2.bias\n",
      "encoder.ffn_layers.1.conv_1.weight\n",
      "encoder.ffn_layers.1.conv_1.bias\n",
      "encoder.ffn_layers.1.conv_2.weight\n",
      "encoder.ffn_layers.1.conv_2.bias\n",
      "encoder.ffn_layers.2.conv_1.weight\n",
      "encoder.ffn_layers.2.conv_1.bias\n",
      "encoder.ffn_layers.2.conv_2.weight\n",
      "encoder.ffn_layers.2.conv_2.bias\n",
      "encoder.ffn_layers.3.conv_1.weight\n",
      "encoder.ffn_layers.3.conv_1.bias\n",
      "encoder.ffn_layers.3.conv_2.weight\n",
      "encoder.ffn_layers.3.conv_2.bias\n",
      "encoder.ffn_layers.4.conv_1.weight\n",
      "encoder.ffn_layers.4.conv_1.bias\n",
      "encoder.ffn_layers.4.conv_2.weight\n",
      "encoder.ffn_layers.4.conv_2.bias\n",
      "encoder.ffn_layers.5.conv_1.weight\n",
      "encoder.ffn_layers.5.conv_1.bias\n",
      "encoder.ffn_layers.5.conv_2.weight\n",
      "encoder.ffn_layers.5.conv_2.bias\n",
      "encoder.norm_layers_2.0.gamma\n",
      "encoder.norm_layers_2.0.beta\n",
      "encoder.norm_layers_2.1.gamma\n",
      "encoder.norm_layers_2.1.beta\n",
      "encoder.norm_layers_2.2.gamma\n",
      "encoder.norm_layers_2.2.beta\n",
      "encoder.norm_layers_2.3.gamma\n",
      "encoder.norm_layers_2.3.beta\n",
      "encoder.norm_layers_2.4.gamma\n",
      "encoder.norm_layers_2.4.beta\n",
      "encoder.norm_layers_2.5.gamma\n",
      "encoder.norm_layers_2.5.beta\n",
      "postnet.weight\n",
      "postnet.bias\n",
      "warm start\n"
     ]
    }
   ],
   "source": [
    "# warm start\n",
    "checkpoint = torch.load('/data/scpark/save/lips/train06.23-1/save_120000', map_location=torch.device('cpu'))\n",
    "model_state_dict = model.state_dict()\n",
    "\n",
    "for key in checkpoint['model_state_dict']:\n",
    "    if key in model_state_dict.keys():\n",
    "        if checkpoint['model_state_dict'][key].shape == model_state_dict[key].shape:\n",
    "            model_state_dict[key] = checkpoint['model_state_dict'][key]\n",
    "            print(key)\n",
    "model.load_state_dict(model_state_dict, strict=True)\n",
    "print('warm start')"
   ]
  },
  {
   "cell_type": "markdown",
   "id": "31748b8c",
   "metadata": {},
   "source": [
    "### Load"
   ]
  },
  {
   "cell_type": "code",
   "execution_count": 6,
   "id": "998d7f8f",
   "metadata": {
    "scrolled": true
   },
   "outputs": [
    {
     "name": "stdout",
     "output_type": "stream",
     "text": [
      "total 15100\r\n",
      "-rw-rw-r-- 1 scpark scpark 15456205  7월 11 21:18 save_0\r\n",
      "-rw-rw-r-- 1 scpark scpark      131  7월 11 21:17 events.out.tfevents.1689077737.GPUSVR01\r\n"
     ]
    }
   ],
   "source": [
    "save_dir = '/data/scpark/save/lips/train07.11-1/'\n",
    "!mkdir -p $save_dir\n",
    "!ls -lt $save_dir\n",
    "\n",
    "writer = SummaryWriter(save_dir)\n",
    "\n",
    "if False:\n",
    "    step, model, _, optimizer = load(save_dir, 56389, model, None, optimizer)"
   ]
  },
  {
   "cell_type": "markdown",
   "id": "b71d7b3c",
   "metadata": {},
   "source": [
    "### Dataset"
   ]
  },
  {
   "cell_type": "code",
   "execution_count": 7,
   "id": "8a8aa62c",
   "metadata": {
    "scrolled": true
   },
   "outputs": [
    {
     "name": "stdout",
     "output_type": "stream",
     "text": [
      "39\n",
      "/data/speech/digital_human/preprocessed/MH_ARKit_001_1_iPhone_raw.npy\n",
      "/data/speech/digital_human/preprocessed/MH_ARKit_001_2_iPhone_raw.npy\n",
      "/data/speech/digital_human/preprocessed/MH_ARKit_001_3_iPhone_raw.npy\n",
      "/data/speech/digital_human/preprocessed/MH_ARKit_001_4_iPhone_raw.npy\n",
      "/data/speech/digital_human/preprocessed/MH_ARKit_001_5_iPhone_raw.npy\n",
      "/data/speech/digital_human/preprocessed/MH_ARKit_001_6_iPhone_raw.npy\n",
      "/data/speech/digital_human/preprocessed/MH_ARKit_001_7_iPhone_raw.npy\n",
      "/data/speech/digital_human/preprocessed/MH_ARKit_001_8_iPhone_raw.npy\n",
      "/data/speech/digital_human/preprocessed/MH_ARKit_001_9_iPhone_raw.npy\n",
      "/data/speech/digital_human/preprocessed/MH_ARKit_002_10_iPhone_raw.npy\n",
      "/data/speech/digital_human/preprocessed/MH_ARKit_002_1_iPhone_raw.npy\n",
      "/data/speech/digital_human/preprocessed/MH_ARKit_002_2_iPhone_raw.npy\n",
      "/data/speech/digital_human/preprocessed/MH_ARKit_002_3_iPhone_raw.npy\n",
      "/data/speech/digital_human/preprocessed/MH_ARKit_002_4_iPhone_raw.npy\n",
      "/data/speech/digital_human/preprocessed/MH_ARKit_002_5_iPhone_raw.npy\n",
      "/data/speech/digital_human/preprocessed/MH_ARKit_002_6_iPhone_raw.npy\n",
      "/data/speech/digital_human/preprocessed/MH_ARKit_002_7_iPhone_raw.npy\n",
      "/data/speech/digital_human/preprocessed/MH_ARKit_002_8_iPhone_raw.npy\n",
      "/data/speech/digital_human/preprocessed/MH_ARKit_002_9_iPhone_raw.npy\n",
      "/data/speech/digital_human/preprocessed/MH_ARKit_003_10_iPhone_raw.npy\n",
      "/data/speech/digital_human/preprocessed/MH_ARKit_003_11_iPhone_raw.npy\n",
      "/data/speech/digital_human/preprocessed/MH_ARKit_003_12_iPhone_raw.npy\n",
      "/data/speech/digital_human/preprocessed/MH_ARKit_003_1_iPhone_raw.npy\n",
      "/data/speech/digital_human/preprocessed/MH_ARKit_003_2_iPhone_raw.npy\n",
      "/data/speech/digital_human/preprocessed/MH_ARKit_003_3_iPhone_raw.npy\n",
      "/data/speech/digital_human/preprocessed/MH_ARKit_003_4_iPhone_raw.npy\n",
      "/data/speech/digital_human/preprocessed/MH_ARKit_003_5_iPhone_raw.npy\n",
      "/data/speech/digital_human/preprocessed/MH_ARKit_003_8_iPhone_raw.npy\n",
      "/data/speech/digital_human/preprocessed/MH_ARKit_003_9_iPhone_raw.npy\n",
      "/data/speech/digital_human/preprocessed/MH_ARKit_004_10_iPhone_raw.npy\n",
      "/data/speech/digital_human/preprocessed/MH_ARKit_004_1_iPhone_raw.npy\n",
      "/data/speech/digital_human/preprocessed/MH_ARKit_004_2_iPhone_raw.npy\n",
      "/data/speech/digital_human/preprocessed/MH_ARKit_004_3_iPhone_raw.npy\n",
      "/data/speech/digital_human/preprocessed/MH_ARKit_004_4_iPhone_raw.npy\n",
      "/data/speech/digital_human/preprocessed/MH_ARKit_004_5_iPhone_raw.npy\n",
      "/data/speech/digital_human/preprocessed/MH_ARKit_004_6_iPhone_raw.npy\n",
      "/data/speech/digital_human/preprocessed/MH_ARKit_004_7_iPhone_raw.npy\n",
      "/data/speech/digital_human/preprocessed/MH_ARKit_004_8_iPhone_raw.npy\n",
      "/data/speech/digital_human/preprocessed/MH_ARKit_004_9_iPhone_raw.npy\n",
      "36 3\n"
     ]
    }
   ],
   "source": [
    "import os\n",
    "from data.arkit_dataset import LipsDataset, CombinedDataset, CombinedCollate\n",
    "\n",
    "root_dir = '/data/speech/digital_human/preprocessed/'\n",
    "files = sorted([os.path.join(root_dir, file) for file in os.listdir(root_dir)])\n",
    "print(len(files))\n",
    "\n",
    "train_datasets = []\n",
    "test_datasets = []\n",
    "\n",
    "for file in files:\n",
    "    print(file)\n",
    "    dataset = LipsDataset(file, n_mels, n_frames)\n",
    "    if '_10_' in file:\n",
    "        test_datasets.append(dataset)\n",
    "    else:\n",
    "        train_datasets.append(dataset)\n",
    "print(len(train_datasets), len(test_datasets))"
   ]
  },
  {
   "cell_type": "code",
   "execution_count": 8,
   "id": "4bc7cac0",
   "metadata": {},
   "outputs": [
    {
     "name": "stdout",
     "output_type": "stream",
     "text": [
      "done\n"
     ]
    }
   ],
   "source": [
    "train_loader = torch.utils.data.DataLoader(CombinedDataset(train_datasets), \n",
    "                                           num_workers=16, shuffle=True, batch_size=32, collate_fn=CombinedCollate())\n",
    "test_loader = torch.utils.data.DataLoader(CombinedDataset(test_datasets), \n",
    "                                          num_workers=10, shuffle=True, batch_size=10, collate_fn=CombinedCollate())\n",
    "print('done')"
   ]
  },
  {
   "cell_type": "code",
   "execution_count": null,
   "id": "03238ce2",
   "metadata": {
    "scrolled": false
   },
   "outputs": [
    {
     "name": "stdout",
     "output_type": "stream",
     "text": [
      "7982\n",
      "loss 0.012133250944316387\n",
      "7982 0.012133250944316387\n",
      "7983\n",
      "loss 0.011064130812883377\n",
      "7983 0.011064130812883377\n",
      "7984\n",
      "loss 0.01085596065968275\n",
      "7984 0.01085596065968275\n",
      "7985\n",
      "loss 0.011232595890760422\n",
      "7985 0.011232595890760422\n",
      "7986\n",
      "loss 0.012047233991324902\n",
      "7986 0.012047233991324902\n",
      "7987\n",
      "loss 0.011724227108061314\n",
      "7987 0.011724227108061314\n",
      "7988\n",
      "loss 0.01215800829231739\n",
      "7988 0.01215800829231739\n",
      "7989\n",
      "loss 0.011444835923612118\n",
      "7989 0.011444835923612118\n",
      "7990\n",
      "loss 0.011664369143545628\n",
      "7990 0.011664369143545628\n",
      "7991\n",
      "loss 0.01078946702182293\n",
      "7991 0.01078946702182293\n",
      "7992\n",
      "loss 0.01187424547970295\n",
      "7992 0.01187424547970295\n",
      "7993\n",
      "loss 0.011195674538612366\n",
      "7993 0.011195674538612366\n",
      "7994\n",
      "loss 0.0120087256655097\n",
      "7994 0.0120087256655097\n",
      "7995\n",
      "loss 0.011413974687457085\n",
      "7995 0.011413974687457085\n",
      "7996\n",
      "loss 0.011678694747388363\n",
      "7996 0.011678694747388363\n",
      "7997\n",
      "loss 0.011530161835253239\n",
      "7997 0.011530161835253239\n"
     ]
    }
   ],
   "source": [
    "from IPython import display\n",
    "import librosa.display\n",
    "import matplotlib.pyplot as plt\n",
    "\n",
    "isnan = False\n",
    "while True:\n",
    "    if isnan:\n",
    "        break\n",
    "    for batch in train_loader:\n",
    "        inputs = torch.Tensor(batch['mel']).transpose(1, 2).to(device)\n",
    "        targets = torch.Tensor(batch['blend']).transpose(1, 2).to(device)\n",
    "        \n",
    "        model.train()\n",
    "        model.zero_grad()\n",
    "        outputs = model(inputs, targets)\n",
    "        \n",
    "        print(step)\n",
    "        loss = 0\n",
    "        for key in outputs.keys():\n",
    "            if 'loss' in key:\n",
    "                loss += outputs[key]\n",
    "                print(key, outputs[key].item())\n",
    "        if torch.isnan(loss):\n",
    "            isnan = True\n",
    "            break\n",
    "        loss.backward()\n",
    "        optimizer.step()\n",
    "        print(step, loss.item())\n",
    "        \n",
    "        if step % 1000 == 0:\n",
    "            writer.add_scalar('train_loss', loss.item(), step)\n",
    "        \n",
    "        if step % 1000 == 0:\n",
    "            display.clear_output()\n",
    "            \n",
    "            losses = []\n",
    "            for i, batch in enumerate(test_loader):\n",
    "                if i >= 10:\n",
    "                    break\n",
    "                    \n",
    "                inputs = torch.Tensor(batch['mel']).transpose(1, 2).to(device)\n",
    "                targets = torch.Tensor(batch['blend']).transpose(1, 2).to(device)\n",
    "\n",
    "                model.eval()\n",
    "                with torch.no_grad():\n",
    "                    outputs = model(inputs, targets)\n",
    "                    \n",
    "                loss = 0\n",
    "                for key in outputs.keys():\n",
    "                    if 'loss' in key:\n",
    "                        loss += outputs[key]\n",
    "                print('test :', i, loss.item())\n",
    "                losses.append(loss)        \n",
    "            \n",
    "            test_loss = torch.stack(losses).mean().item()\n",
    "            print('test_loss :', test_loss)\n",
    "            writer.add_scalar('test_loss', test_loss, step)\n",
    "            \n",
    "#             plt.figure(figsize=[18, 4])\n",
    "#             librosa.display.specshow(targets[0].data.cpu().numpy(), cmap='magma')\n",
    "#             plt.show()\n",
    "\n",
    "#             plt.figure(figsize=[18, 4])\n",
    "#             librosa.display.specshow(outputs['y_pred'][0].data.cpu().numpy(), cmap='magma')\n",
    "#             plt.show()\n",
    "            \n",
    "#             for i in [20, 37]:\n",
    "#                 plt.figure(figsize=[18, 2])\n",
    "#                 plt.title(str(i))\n",
    "#                 plt.plot(targets[0].data.cpu().numpy()[i])\n",
    "#                 plt.plot(outputs['y_pred'][0].data.cpu().numpy()[i])\n",
    "#                 plt.show()\n",
    "\n",
    "        if step % 1000 == 0:\n",
    "            save(save_dir, step, model, None, optimizer)\n",
    "    \n",
    "        step += 1"
   ]
  },
  {
   "cell_type": "code",
   "execution_count": 10,
   "id": "e1c85fda",
   "metadata": {},
   "outputs": [
    {
     "name": "stdout",
     "output_type": "stream",
     "text": [
      "saved /data/scpark/save/lips/train07.11-1/save_7982\n"
     ]
    }
   ],
   "source": [
    "save(save_dir, step, model, None, optimizer)"
   ]
  },
  {
   "cell_type": "code",
   "execution_count": null,
   "id": "1166d67e",
   "metadata": {},
   "outputs": [],
   "source": [
    "print('done')"
   ]
  },
  {
   "cell_type": "code",
   "execution_count": null,
   "id": "ce39d126",
   "metadata": {},
   "outputs": [],
   "source": []
  }
 ],
 "metadata": {
  "kernelspec": {
   "display_name": "ste2",
   "language": "python",
   "name": "ste2"
  },
  "language_info": {
   "codemirror_mode": {
    "name": "ipython",
    "version": 3
   },
   "file_extension": ".py",
   "mimetype": "text/x-python",
   "name": "python",
   "nbconvert_exporter": "python",
   "pygments_lexer": "ipython3",
   "version": "3.9.12"
  }
 },
 "nbformat": 4,
 "nbformat_minor": 5
}
