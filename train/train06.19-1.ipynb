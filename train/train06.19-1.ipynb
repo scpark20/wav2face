{
 "cells": [
  {
   "cell_type": "code",
   "execution_count": 1,
   "id": "c79d0b0b",
   "metadata": {},
   "outputs": [],
   "source": [
    "import os\n",
    "os.chdir('../')\n",
    "\n",
    "import warnings\n",
    "warnings.filterwarnings('ignore')"
   ]
  },
  {
   "cell_type": "code",
   "execution_count": 2,
   "id": "6665403e",
   "metadata": {
    "scrolled": true
   },
   "outputs": [
    {
     "name": "stdout",
     "output_type": "stream",
     "text": [
      "Mon Jun 19 20:28:12 2023       \n",
      "+-----------------------------------------------------------------------------+\n",
      "| NVIDIA-SMI 515.105.01   Driver Version: 515.105.01   CUDA Version: 11.7     |\n",
      "|-------------------------------+----------------------+----------------------+\n",
      "| GPU  Name        Persistence-M| Bus-Id        Disp.A | Volatile Uncorr. ECC |\n",
      "| Fan  Temp  Perf  Pwr:Usage/Cap|         Memory-Usage | GPU-Util  Compute M. |\n",
      "|                               |                      |               MIG M. |\n",
      "|===============================+======================+======================|\n",
      "|   0  NVIDIA RTX A5000    Off  | 00000000:1B:00.0 Off |                    0 |\n",
      "| 30%   35C    P2    56W / 230W |   1480MiB / 23028MiB |      0%      Default |\n",
      "|                               |                      |                  N/A |\n",
      "+-------------------------------+----------------------+----------------------+\n",
      "|   1  NVIDIA RTX A5000    Off  | 00000000:1C:00.0 Off |                  Off |\n",
      "| 30%   32C    P8    15W / 230W |      8MiB / 24564MiB |      0%      Default |\n",
      "|                               |                      |                  N/A |\n",
      "+-------------------------------+----------------------+----------------------+\n",
      "|   2  NVIDIA RTX A5000    Off  | 00000000:1D:00.0 Off |                  Off |\n",
      "| 30%   29C    P8    18W / 230W |      8MiB / 24564MiB |      0%      Default |\n",
      "|                               |                      |                  N/A |\n",
      "+-------------------------------+----------------------+----------------------+\n",
      "|   3  NVIDIA RTX A5000    Off  | 00000000:1E:00.0 Off |                  Off |\n",
      "| 30%   27C    P8    18W / 230W |      8MiB / 24564MiB |      0%      Default |\n",
      "|                               |                      |                  N/A |\n",
      "+-------------------------------+----------------------+----------------------+\n",
      "|   4  NVIDIA RTX A5000    Off  | 00000000:89:00.0 Off |                  Off |\n",
      "| 30%   28C    P8    20W / 230W |      8MiB / 24564MiB |      0%      Default |\n",
      "|                               |                      |                  N/A |\n",
      "+-------------------------------+----------------------+----------------------+\n",
      "|   5  NVIDIA RTX A5000    Off  | 00000000:8A:00.0 Off |                  Off |\n",
      "| 30%   28C    P8    17W / 230W |      8MiB / 24564MiB |      0%      Default |\n",
      "|                               |                      |                  N/A |\n",
      "+-------------------------------+----------------------+----------------------+\n",
      "|   6  NVIDIA RTX A5000    Off  | 00000000:8B:00.0 Off |                  Off |\n",
      "| 30%   28C    P8    17W / 230W |  18642MiB / 24564MiB |      0%      Default |\n",
      "|                               |                      |                  N/A |\n",
      "+-------------------------------+----------------------+----------------------+\n",
      "|   7  NVIDIA RTX A5000    Off  | 00000000:8C:00.0 Off |                  Off |\n",
      "| 30%   27C    P8    20W / 230W |   9656MiB / 24564MiB |      0%      Default |\n",
      "|                               |                      |                  N/A |\n",
      "+-------------------------------+----------------------+----------------------+\n",
      "                                                                               \n",
      "+-----------------------------------------------------------------------------+\n",
      "| Processes:                                                                  |\n",
      "|  GPU   GI   CI        PID   Type   Process name                  GPU Memory |\n",
      "|        ID   ID                                                   Usage      |\n",
      "|=============================================================================|\n",
      "|    0   N/A  N/A      3580      G   /usr/lib/xorg/Xorg                  4MiB |\n",
      "|    0   N/A  N/A   2189614      C   ...onda3/envs/ste/bin/python      361MiB |\n",
      "|    0   N/A  N/A   4098577      C   /usr/bin/python3                 1111MiB |\n",
      "|    1   N/A  N/A      3580      G   /usr/lib/xorg/Xorg                  4MiB |\n",
      "|    2   N/A  N/A      3580      G   /usr/lib/xorg/Xorg                  4MiB |\n",
      "|    3   N/A  N/A      3580      G   /usr/lib/xorg/Xorg                  4MiB |\n",
      "|    4   N/A  N/A      3580      G   /usr/lib/xorg/Xorg                  4MiB |\n",
      "|    5   N/A  N/A      3580      G   /usr/lib/xorg/Xorg                  4MiB |\n",
      "|    6   N/A  N/A      3580      G   /usr/lib/xorg/Xorg                  4MiB |\n",
      "|    6   N/A  N/A   2004468      C   ...hyun/anaconda3/bin/python     2281MiB |\n",
      "|    6   N/A  N/A   2006738      C   ...hyun/anaconda3/bin/python     2207MiB |\n",
      "|    6   N/A  N/A   2009291      C   ...hyun/anaconda3/bin/python     2217MiB |\n",
      "|    6   N/A  N/A   2692076      C   ...hyun/anaconda3/bin/python     2723MiB |\n",
      "|    6   N/A  N/A   2726596      C   ...hyun/anaconda3/bin/python     2305MiB |\n",
      "|    6   N/A  N/A   2764943      C   ...hyun/anaconda3/bin/python     2303MiB |\n",
      "|    6   N/A  N/A   2778482      C   ...hyun/anaconda3/bin/python     2359MiB |\n",
      "|    6   N/A  N/A   2860606      C   ...hyun/anaconda3/bin/python     2237MiB |\n",
      "|    7   N/A  N/A      3580      G   /usr/lib/xorg/Xorg                  4MiB |\n",
      "|    7   N/A  N/A   3900294      C   ...hyun/anaconda3/bin/python     2389MiB |\n",
      "|    7   N/A  N/A   3967181      C   ...hyun/anaconda3/bin/python     2317MiB |\n",
      "|    7   N/A  N/A   3978005      C   ...hyun/anaconda3/bin/python     2487MiB |\n",
      "|    7   N/A  N/A   3980008      C   ...hyun/anaconda3/bin/python     2455MiB |\n",
      "+-----------------------------------------------------------------------------+\n"
     ]
    }
   ],
   "source": [
    "import torch\n",
    "import torch.nn as nn\n",
    "import torch.nn.functional as F\n",
    "import numpy as np\n",
    "import os\n",
    "\n",
    "!nvidia-smi\n",
    "os.environ[\"CUDA_VISIBLE_DEVICES\"]=\"1\""
   ]
  },
  {
   "cell_type": "markdown",
   "id": "cee05e12",
   "metadata": {},
   "source": [
    "### Hyperparams"
   ]
  },
  {
   "cell_type": "code",
   "execution_count": 3,
   "id": "fb821737",
   "metadata": {},
   "outputs": [],
   "source": [
    "n_mels = 8\n",
    "n_outputs = 61\n",
    "n_frames = 400\n",
    "sr = 24000\n",
    "fps = 30\n",
    "train_csv_files = ['/Storage/speech/face/rvh_viseme2_1_iPhone_raw_30fps.csv',\n",
    "                   '/Storage/speech/face/rvh_viseme2_2_iPhone_raw_30fps.csv',\n",
    "                   '/Storage/speech/face/rvh_viseme2_3_iPhone_raw_30fps.csv',\n",
    "                   '/Storage/speech/face/rvh_viseme2_4_iPhone_raw_30fps.csv',\n",
    "                  ]\n",
    "train_wav_files = ['/Storage/speech/face/rvh_viseme2_1_iPhone.wav',\n",
    "                   '/Storage/speech/face/rvh_viseme2_2_iPhone.wav',\n",
    "                   '/Storage/speech/face/rvh_viseme2_3_iPhone.wav',\n",
    "                   '/Storage/speech/face/rvh_viseme2_4_iPhone.wav',\n",
    "                  ]\n",
    "\n",
    "test_csv_files = ['/Storage/speech/face/MySlate_6_박수철의_iPhone_30fps.csv']\n",
    "test_wav_files = ['/Storage/speech/face/MySlate_6_박수철의_iPhone.wav']"
   ]
  },
  {
   "cell_type": "markdown",
   "id": "58c54e68",
   "metadata": {},
   "source": [
    "### Model"
   ]
  },
  {
   "cell_type": "code",
   "execution_count": 4,
   "id": "cedcf798",
   "metadata": {},
   "outputs": [
    {
     "name": "stdout",
     "output_type": "stream",
     "text": [
      "done\n"
     ]
    }
   ],
   "source": [
    "from model.model_transformer_reg import Model\n",
    "from utils.util import *\n",
    "from tensorboardX import SummaryWriter\n",
    "\n",
    "step = 0\n",
    "device = 'cuda:0'\n",
    "\n",
    "# Model\n",
    "model = Model(in_dim=n_mels, h_dim=512, out_dim=n_outputs)\n",
    "model = model.to(device)\n",
    "optimizer = torch.optim.AdamW(model.parameters(), lr=1e-4)\n",
    "print('done')"
   ]
  },
  {
   "cell_type": "markdown",
   "id": "31748b8c",
   "metadata": {},
   "source": [
    "### Load"
   ]
  },
  {
   "cell_type": "code",
   "execution_count": 5,
   "id": "998d7f8f",
   "metadata": {},
   "outputs": [
    {
     "name": "stdout",
     "output_type": "stream",
     "text": [
      "total 12\r\n",
      "-rw-rw-r-- 1 scpark scpark 40  6월 19 20:28 events.out.tfevents.1687174040.GPUSVR01\r\n",
      "-rw-rw-r-- 1 scpark scpark 40  6월 19 20:27 events.out.tfevents.1687173985.GPUSVR01\r\n",
      "-rw-rw-r-- 1 scpark scpark 40  6월 19 20:27 events.out.tfevents.1687173988.GPUSVR01\r\n"
     ]
    }
   ],
   "source": [
    "save_dir = '/data/scpark/save/lips/train06.19-1/'\n",
    "!mkdir -p $save_dir\n",
    "!ls -lt $save_dir\n",
    "\n",
    "writer = SummaryWriter(save_dir)\n",
    "\n",
    "if False:\n",
    "    step, model, _, optimizer = load(save_dir, 13000, model, None, optimizer)"
   ]
  },
  {
   "cell_type": "code",
   "execution_count": 6,
   "id": "8a8aa62c",
   "metadata": {},
   "outputs": [
    {
     "name": "stdout",
     "output_type": "stream",
     "text": [
      "train dataset : 28308\n",
      "<torch.utils.data.dataloader.DataLoader object at 0x7f0330d9e580>\n",
      "test dataset : 1413\n",
      "<torch.utils.data.dataloader.DataLoader object at 0x7f022b9f22e0>\n"
     ]
    }
   ],
   "source": [
    "import torch\n",
    "from data.dataset import LipsDataset, Collate\n",
    "\n",
    "train_dataset = LipsDataset(train_wav_files, train_csv_files, n_frames, n_mels=n_mels, sr=sr, fps=fps, perturb=True)\n",
    "print('train dataset :', len(train_dataset))\n",
    "train_loader = torch.utils.data.DataLoader(train_dataset, num_workers=1, shuffle=True, batch_size=8, \n",
    "                                           collate_fn=Collate(n_frames, n_mels))\n",
    "print(train_loader)\n",
    "\n",
    "test_dataset = LipsDataset(test_wav_files, test_csv_files, n_frames, n_mels=n_mels, sr=sr, fps=fps, perturb=False)\n",
    "print('test dataset :', len(test_dataset))\n",
    "test_loader = torch.utils.data.DataLoader(test_dataset, num_workers=1, shuffle=True, batch_size=8,\n",
    "                                           collate_fn=Collate(n_frames, n_mels))\n",
    "print(test_loader)"
   ]
  },
  {
   "cell_type": "code",
   "execution_count": 30,
   "id": "03238ce2",
   "metadata": {
    "scrolled": true
   },
   "outputs": [
    {
     "name": "stdout",
     "output_type": "stream",
     "text": [
      "23349\n",
      "loss 0.00396719528362155\n",
      "23349 0.00396719528362155\n",
      "23350\n",
      "loss 0.004356435965746641\n",
      "23350 0.004356435965746641\n",
      "23351\n",
      "loss 0.0040288218297064304\n",
      "23351 0.0040288218297064304\n"
     ]
    },
    {
     "name": "stderr",
     "output_type": "stream",
     "text": [
      "\n",
      "KeyboardInterrupt\n",
      "\n"
     ]
    }
   ],
   "source": [
    "from IPython import display\n",
    "import librosa.display\n",
    "import matplotlib.pyplot as plt\n",
    "\n",
    "isnan = False\n",
    "while True:\n",
    "    if isnan:\n",
    "        break\n",
    "    for batch in train_loader:\n",
    "        inputs = batch['inputs'].transpose(1, 2).to(device)\n",
    "        targets = batch['outputs'].transpose(1, 2).to(device)\n",
    "        \n",
    "        model.train()\n",
    "        model.zero_grad()\n",
    "        outputs = model(inputs, targets)\n",
    "        \n",
    "        print(step)\n",
    "        loss = 0\n",
    "        for key in outputs.keys():\n",
    "            if 'loss' in key:\n",
    "                loss += outputs[key]\n",
    "                print(key, outputs[key].item())\n",
    "        if torch.isnan(loss):\n",
    "            isnan = True\n",
    "            break\n",
    "        loss.backward()\n",
    "        optimizer.step()\n",
    "        print(step, loss.item())\n",
    "        \n",
    "        if step % 100 == 0:\n",
    "            writer.add_scalar('train_loss', loss.item(), step)\n",
    "        \n",
    "        if step % 100 == 0:\n",
    "            display.clear_output()\n",
    "            \n",
    "            losses = []\n",
    "            for i, batch in enumerate(test_loader):\n",
    "                if i >= 10:\n",
    "                    break\n",
    "                    \n",
    "                inputs = batch['inputs'].transpose(1, 2).to(device)\n",
    "                targets = batch['outputs'].transpose(1, 2).to(device)\n",
    "\n",
    "                model.eval()\n",
    "                with torch.no_grad():\n",
    "                    outputs = model(inputs, targets)\n",
    "                    \n",
    "                loss = 0\n",
    "                for key in outputs.keys():\n",
    "                    if 'loss' in key:\n",
    "                        loss += outputs[key]\n",
    "                print('test :', i, loss.item())\n",
    "                losses.append(loss)        \n",
    "            \n",
    "            test_loss = torch.stack(losses).mean().item()\n",
    "            print('test_loss :', test_loss)\n",
    "            writer.add_scalar('test_loss', test_loss, step)\n",
    "            \n",
    "            plt.figure(figsize=[18, 4])\n",
    "            librosa.display.specshow(targets[0].data.cpu().numpy(), cmap='magma')\n",
    "            plt.show()\n",
    "\n",
    "            plt.figure(figsize=[18, 4])\n",
    "            librosa.display.specshow(outputs['y_pred'][0].data.cpu().numpy(), cmap='magma')\n",
    "            plt.show()\n",
    "            \n",
    "            for i in [0, 12, 21, 23, 41]:\n",
    "                plt.figure(figsize=[18, 2])\n",
    "                plt.title(str(i))\n",
    "                plt.plot(targets[0].data.cpu().numpy()[i])\n",
    "                plt.plot(outputs['y_pred'][0].data.cpu().numpy()[i])\n",
    "                plt.show()\n",
    "\n",
    "        if step % 1000 == 0:\n",
    "            save(save_dir, step, model, None, optimizer)\n",
    "    \n",
    "        step += 1"
   ]
  },
  {
   "cell_type": "code",
   "execution_count": 25,
   "id": "e1c85fda",
   "metadata": {},
   "outputs": [
    {
     "name": "stdout",
     "output_type": "stream",
     "text": [
      "saved /data/scpark/save/lips/train06.19-1/save_23287\n"
     ]
    }
   ],
   "source": [
    "save(save_dir, step, model, None, optimizer)"
   ]
  },
  {
   "cell_type": "code",
   "execution_count": null,
   "id": "1166d67e",
   "metadata": {},
   "outputs": [],
   "source": []
  }
 ],
 "metadata": {
  "kernelspec": {
   "display_name": "ste2",
   "language": "python",
   "name": "ste2"
  },
  "language_info": {
   "codemirror_mode": {
    "name": "ipython",
    "version": 3
   },
   "file_extension": ".py",
   "mimetype": "text/x-python",
   "name": "python",
   "nbconvert_exporter": "python",
   "pygments_lexer": "ipython3",
   "version": "3.9.15"
  }
 },
 "nbformat": 4,
 "nbformat_minor": 5
}
