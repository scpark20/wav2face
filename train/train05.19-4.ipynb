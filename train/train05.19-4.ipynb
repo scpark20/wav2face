{
 "cells": [
  {
   "cell_type": "code",
   "execution_count": 1,
   "id": "c79d0b0b",
   "metadata": {},
   "outputs": [],
   "source": [
    "import os\n",
    "os.chdir('../')\n",
    "\n",
    "import warnings\n",
    "warnings.filterwarnings('ignore')"
   ]
  },
  {
   "cell_type": "code",
   "execution_count": 2,
   "id": "6665403e",
   "metadata": {
    "scrolled": true
   },
   "outputs": [
    {
     "name": "stdout",
     "output_type": "stream",
     "text": [
      "Fri May 19 17:50:56 2023       \n",
      "+-----------------------------------------------------------------------------+\n",
      "| NVIDIA-SMI 515.105.01   Driver Version: 515.105.01   CUDA Version: 11.7     |\n",
      "|-------------------------------+----------------------+----------------------+\n",
      "| GPU  Name        Persistence-M| Bus-Id        Disp.A | Volatile Uncorr. ECC |\n",
      "| Fan  Temp  Perf  Pwr:Usage/Cap|         Memory-Usage | GPU-Util  Compute M. |\n",
      "|                               |                      |               MIG M. |\n",
      "|===============================+======================+======================|\n",
      "|   0  NVIDIA RTX A5000    Off  | 00000000:1B:00.0 Off |                    0 |\n",
      "| 30%   27C    P8    13W / 230W |   1433MiB / 23028MiB |      0%      Default |\n",
      "|                               |                      |                  N/A |\n",
      "+-------------------------------+----------------------+----------------------+\n",
      "|   1  NVIDIA RTX A5000    Off  | 00000000:1C:00.0 Off |                  Off |\n",
      "| 30%   52C    P2    93W / 230W |  20131MiB / 24564MiB |      7%      Default |\n",
      "|                               |                      |                  N/A |\n",
      "+-------------------------------+----------------------+----------------------+\n",
      "|   2  NVIDIA RTX A5000    Off  | 00000000:1D:00.0 Off |                  Off |\n",
      "| 30%   50C    P2   126W / 230W |  15005MiB / 24564MiB |     27%      Default |\n",
      "|                               |                      |                  N/A |\n",
      "+-------------------------------+----------------------+----------------------+\n",
      "|   3  NVIDIA RTX A5000    Off  | 00000000:1E:00.0 Off |                  Off |\n",
      "| 30%   51C    P2   113W / 230W |  16397MiB / 24564MiB |     54%      Default |\n",
      "|                               |                      |                  N/A |\n",
      "+-------------------------------+----------------------+----------------------+\n",
      "|   4  NVIDIA RTX A5000    Off  | 00000000:89:00.0 Off |                  Off |\n",
      "| 30%   57C    P2   150W / 230W |  20161MiB / 24564MiB |     26%      Default |\n",
      "|                               |                      |                  N/A |\n",
      "+-------------------------------+----------------------+----------------------+\n",
      "|   5  NVIDIA RTX A5000    Off  | 00000000:8A:00.0 Off |                  Off |\n",
      "| 30%   54C    P2   121W / 230W |  16159MiB / 24564MiB |     31%      Default |\n",
      "|                               |                      |                  N/A |\n",
      "+-------------------------------+----------------------+----------------------+\n",
      "|   6  NVIDIA RTX A5000    Off  | 00000000:8B:00.0 Off |                  Off |\n",
      "| 30%   27C    P8    17W / 230W |      5MiB / 24564MiB |      0%      Default |\n",
      "|                               |                      |                  N/A |\n",
      "+-------------------------------+----------------------+----------------------+\n",
      "|   7  NVIDIA RTX A5000    Off  | 00000000:8C:00.0 Off |                  Off |\n",
      "| 30%   45C    P2   119W / 230W |   7030MiB / 24564MiB |      0%      Default |\n",
      "|                               |                      |                  N/A |\n",
      "+-------------------------------+----------------------+----------------------+\n",
      "                                                                               \n",
      "+-----------------------------------------------------------------------------+\n",
      "| Processes:                                                                  |\n",
      "|  GPU   GI   CI        PID   Type   Process name                  GPU Memory |\n",
      "|        ID   ID                                                   Usage      |\n",
      "|=============================================================================|\n",
      "|    0   N/A  N/A      3580      G   /usr/lib/xorg/Xorg                  4MiB |\n",
      "|    0   N/A  N/A   3439958      C   ...3/envs/vspeech/bin/python     1425MiB |\n",
      "|    1   N/A  N/A      3580      G   /usr/lib/xorg/Xorg                  4MiB |\n",
      "|    1   N/A  N/A   1792411      C   ...3/envs/vspeech/bin/python    20123MiB |\n",
      "|    2   N/A  N/A      3580      G   /usr/lib/xorg/Xorg                  4MiB |\n",
      "|    2   N/A  N/A   1985994      C   ...3/envs/vspeech/bin/python    14997MiB |\n",
      "|    3   N/A  N/A      3580      G   /usr/lib/xorg/Xorg                  4MiB |\n",
      "|    3   N/A  N/A   4160782      C   ...3/envs/vspeech/bin/python    16389MiB |\n",
      "|    4   N/A  N/A      3580      G   /usr/lib/xorg/Xorg                  4MiB |\n",
      "|    4   N/A  N/A    172531      C   ...3/envs/vspeech/bin/python    20153MiB |\n",
      "|    5   N/A  N/A      3580      G   /usr/lib/xorg/Xorg                  4MiB |\n",
      "|    5   N/A  N/A    299985      C   ...3/envs/vspeech/bin/python    16151MiB |\n",
      "|    6   N/A  N/A      3580      G   /usr/lib/xorg/Xorg                  4MiB |\n",
      "|    7   N/A  N/A      3580      G   /usr/lib/xorg/Xorg                  4MiB |\n",
      "|    7   N/A  N/A   3023930      C   ...nda3/envs/ste2/bin/python     3453MiB |\n",
      "|    7   N/A  N/A   3505586      C   ...nda3/envs/ste2/bin/python     3569MiB |\n",
      "+-----------------------------------------------------------------------------+\n"
     ]
    }
   ],
   "source": [
    "import torch\n",
    "import torch.nn as nn\n",
    "import torch.nn.functional as F\n",
    "import numpy as np\n",
    "import os\n",
    "\n",
    "!nvidia-smi\n",
    "os.environ[\"CUDA_VISIBLE_DEVICES\"]=\"7\""
   ]
  },
  {
   "cell_type": "markdown",
   "id": "cee05e12",
   "metadata": {},
   "source": [
    "### Hyperparams"
   ]
  },
  {
   "cell_type": "code",
   "execution_count": 3,
   "id": "fb821737",
   "metadata": {},
   "outputs": [],
   "source": [
    "n_mels = 8\n",
    "n_outputs = 61\n",
    "n_frames = 400\n",
    "sr = 24000\n",
    "fps = 30\n",
    "train_csv_files = ['/Storage/speech/face/rvh_visme_1_iPhone_30fps.csv',\n",
    "                  '/Storage/speech/face/rvh_visme_2_iPhone_30fps.csv',\n",
    "                  '/Storage/speech/face/rvh_visme_3_iPhone_30fps.csv']\n",
    "train_wav_files = ['/Storage/speech/face/rvh_visme_1_iPhone.wav',\n",
    "                 '/Storage/speech/face/rvh_visme_2_iPhone.wav',\n",
    "                 '/Storage/speech/face/rvh_visme_3_iPhone.wav']\n",
    "\n",
    "test_csv_files = ['/Storage/speech/face/rvh_visme_4_iPhone_30fps.csv']\n",
    "test_wav_files = ['/Storage/speech/face/rvh_visme_4_iPhone.wav']"
   ]
  },
  {
   "cell_type": "markdown",
   "id": "58c54e68",
   "metadata": {},
   "source": [
    "### Model"
   ]
  },
  {
   "cell_type": "code",
   "execution_count": 4,
   "id": "cedcf798",
   "metadata": {},
   "outputs": [
    {
     "name": "stdout",
     "output_type": "stream",
     "text": [
      "done\n"
     ]
    }
   ],
   "source": [
    "from model.model_vqvae import Model\n",
    "from utils.util import *\n",
    "from tensorboardX import SummaryWriter\n",
    "\n",
    "step = 0\n",
    "device = 'cuda:0'\n",
    "\n",
    "# Model\n",
    "model = Model(in_dim=n_mels, out_dim=n_outputs, K=8, latent_dim=64)\n",
    "model = model.to(device)\n",
    "optimizer = torch.optim.AdamW(model.parameters(), lr=1e-4)\n",
    "print('done')"
   ]
  },
  {
   "cell_type": "markdown",
   "id": "31748b8c",
   "metadata": {},
   "source": [
    "### Load"
   ]
  },
  {
   "cell_type": "code",
   "execution_count": 5,
   "id": "998d7f8f",
   "metadata": {},
   "outputs": [
    {
     "name": "stdout",
     "output_type": "stream",
     "text": [
      "total 0\r\n"
     ]
    }
   ],
   "source": [
    "save_dir = '/data/scpark/save/lips/train05.19-4/'\n",
    "!mkdir -p $save_dir\n",
    "!ls -lt $save_dir\n",
    "\n",
    "writer = SummaryWriter(save_dir)\n",
    "\n",
    "if False:\n",
    "    step, model, _, optimizer = load(save_dir, 2207, model, None, optimizer)"
   ]
  },
  {
   "cell_type": "code",
   "execution_count": 6,
   "id": "8a8aa62c",
   "metadata": {},
   "outputs": [
    {
     "name": "stdout",
     "output_type": "stream",
     "text": [
      "train dataset : 22042\n",
      "<torch.utils.data.dataloader.DataLoader object at 0x7f70bb45c4f0>\n",
      "test dataset : 7725\n",
      "<torch.utils.data.dataloader.DataLoader object at 0x7f702bf99970>\n"
     ]
    }
   ],
   "source": [
    "import torch\n",
    "from data.dataset import LipsDataset, Collate\n",
    "\n",
    "dataset = LipsDataset(train_wav_files, train_csv_files, n_frames, n_mels=n_mels, sr=sr, fps=fps, perturb=True)\n",
    "print('train dataset :', len(dataset))\n",
    "train_loader = torch.utils.data.DataLoader(dataset, num_workers=1, shuffle=True, batch_size=8, \n",
    "                                           collate_fn=Collate(n_frames, n_mels))\n",
    "print(train_loader)\n",
    "\n",
    "dataset = LipsDataset(test_wav_files, test_csv_files, n_frames, n_mels=n_mels, sr=sr, fps=fps, perturb=False)\n",
    "print('test dataset :', len(dataset))\n",
    "test_loader = torch.utils.data.DataLoader(dataset, num_workers=1, shuffle=True, batch_size=8,\n",
    "                                           collate_fn=Collate(n_frames, n_mels))\n",
    "print(test_loader)"
   ]
  },
  {
   "cell_type": "code",
   "execution_count": null,
   "id": "03238ce2",
   "metadata": {
    "scrolled": false
   },
   "outputs": [],
   "source": [
    "from IPython import display\n",
    "import librosa.display\n",
    "import matplotlib.pyplot as plt\n",
    "\n",
    "isnan = False\n",
    "while True:\n",
    "    if isnan:\n",
    "        break\n",
    "    for batch in train_loader:\n",
    "        inputs = batch['inputs'].transpose(1, 2).to(device)\n",
    "        targets = batch['outputs'].transpose(1, 2).to(device)\n",
    "        \n",
    "        model.train()\n",
    "        model.zero_grad()\n",
    "        outputs = model(inputs, targets)\n",
    "        \n",
    "        print(step)\n",
    "        loss = 0\n",
    "        for key in outputs.keys():\n",
    "            if 'loss' in key:\n",
    "                loss += outputs[key]\n",
    "                print(key, outputs[key].item())\n",
    "        if torch.isnan(loss):\n",
    "            isnan = True\n",
    "            break\n",
    "        loss.backward()\n",
    "        optimizer.step()\n",
    "        print(step, loss.item())\n",
    "        \n",
    "        if step % 100 == 0:\n",
    "            writer.add_scalar('train_loss', loss.item(), step)\n",
    "        \n",
    "        if step % 100 == 0:\n",
    "            display.clear_output()\n",
    "            \n",
    "            losses = []\n",
    "            for i, batch in enumerate(test_loader):\n",
    "                if i >= 10:\n",
    "                    break\n",
    "                    \n",
    "                inputs = batch['inputs'].transpose(1, 2).to(device)\n",
    "                targets = batch['outputs'].transpose(1, 2).to(device)\n",
    "\n",
    "                model.eval()\n",
    "                with torch.no_grad():\n",
    "                    outputs = model(inputs, targets)\n",
    "                    \n",
    "                loss = 0\n",
    "                for key in outputs.keys():\n",
    "                    if 'loss' in key:\n",
    "                        loss += outputs[key]\n",
    "                print('test :', i, loss.item())\n",
    "                losses.append(loss)        \n",
    "            \n",
    "            test_loss = torch.stack(losses).mean().item()\n",
    "            print('test_loss :', test_loss)\n",
    "            writer.add_scalar('test_loss', test_loss, step)\n",
    "\n",
    "        if step % 1000 == 0:\n",
    "            save(save_dir, step, model, None, optimizer)\n",
    "    \n",
    "        step += 1"
   ]
  },
  {
   "cell_type": "code",
   "execution_count": null,
   "id": "b1f9a040",
   "metadata": {},
   "outputs": [],
   "source": [
    "save(save_dir, step, model, None, optimizer)"
   ]
  },
  {
   "cell_type": "code",
   "execution_count": null,
   "id": "8b98af31",
   "metadata": {},
   "outputs": [],
   "source": []
  },
  {
   "cell_type": "code",
   "execution_count": null,
   "id": "0839fa05",
   "metadata": {},
   "outputs": [],
   "source": []
  },
  {
   "cell_type": "code",
   "execution_count": null,
   "id": "9a3e8ae3",
   "metadata": {},
   "outputs": [],
   "source": []
  }
 ],
 "metadata": {
  "kernelspec": {
   "display_name": "ste2",
   "language": "python",
   "name": "ste2"
  },
  "language_info": {
   "codemirror_mode": {
    "name": "ipython",
    "version": 3
   },
   "file_extension": ".py",
   "mimetype": "text/x-python",
   "name": "python",
   "nbconvert_exporter": "python",
   "pygments_lexer": "ipython3",
   "version": "3.9.15"
  }
 },
 "nbformat": 4,
 "nbformat_minor": 5
}
