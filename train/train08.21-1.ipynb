{
 "cells": [
  {
   "cell_type": "code",
   "execution_count": 1,
   "id": "c79d0b0b",
   "metadata": {},
   "outputs": [],
   "source": [
    "import os\n",
    "os.chdir('../')\n",
    "\n",
    "import warnings\n",
    "warnings.filterwarnings('ignore')"
   ]
  },
  {
   "cell_type": "code",
   "execution_count": 2,
   "id": "6665403e",
   "metadata": {
    "scrolled": true
   },
   "outputs": [
    {
     "name": "stdout",
     "output_type": "stream",
     "text": [
      "Thu Aug 24 17:34:52 2023       \n",
      "+-----------------------------------------------------------------------------+\n",
      "| NVIDIA-SMI 525.125.06   Driver Version: 525.125.06   CUDA Version: 12.0     |\n",
      "|-------------------------------+----------------------+----------------------+\n",
      "| GPU  Name        Persistence-M| Bus-Id        Disp.A | Volatile Uncorr. ECC |\n",
      "| Fan  Temp  Perf  Pwr:Usage/Cap|         Memory-Usage | GPU-Util  Compute M. |\n",
      "|                               |                      |               MIG M. |\n",
      "|===============================+======================+======================|\n",
      "|   0  NVIDIA RTX A5000    Off  | 00000000:1B:00.0 Off |                    0 |\n",
      "| 30%   24C    P8    13W / 230W |      6MiB / 23028MiB |      0%      Default |\n",
      "|                               |                      |                  N/A |\n",
      "+-------------------------------+----------------------+----------------------+\n",
      "|   1  NVIDIA RTX A5000    Off  | 00000000:1C:00.0 Off |                  Off |\n",
      "| 30%   25C    P8    14W / 230W |   2306MiB / 24564MiB |      0%      Default |\n",
      "|                               |                      |                  N/A |\n",
      "+-------------------------------+----------------------+----------------------+\n",
      "|   2  NVIDIA RTX A5000    Off  | 00000000:1D:00.0 Off |                  Off |\n",
      "| 30%   35C    P2    74W / 230W |    892MiB / 24564MiB |      0%      Default |\n",
      "|                               |                      |                  N/A |\n",
      "+-------------------------------+----------------------+----------------------+\n",
      "|   3  NVIDIA RTX A5000    Off  | 00000000:1E:00.0 Off |                  Off |\n",
      "| 30%   25C    P8    18W / 230W |      6MiB / 24564MiB |      0%      Default |\n",
      "|                               |                      |                  N/A |\n",
      "+-------------------------------+----------------------+----------------------+\n",
      "|   4  NVIDIA RTX A5000    Off  | 00000000:89:00.0 Off |                  Off |\n",
      "| 30%   25C    P8    16W / 230W |      6MiB / 24564MiB |      0%      Default |\n",
      "|                               |                      |                  N/A |\n",
      "+-------------------------------+----------------------+----------------------+\n",
      "|   5  NVIDIA RTX A5000    Off  | 00000000:8A:00.0 Off |                  Off |\n",
      "| 30%   25C    P8    17W / 230W |      6MiB / 24564MiB |      0%      Default |\n",
      "|                               |                      |                  N/A |\n",
      "+-------------------------------+----------------------+----------------------+\n",
      "|   6  NVIDIA RTX A5000    Off  | 00000000:8B:00.0 Off |                  Off |\n",
      "| 30%   25C    P8    18W / 230W |      6MiB / 24564MiB |      0%      Default |\n",
      "|                               |                      |                  N/A |\n",
      "+-------------------------------+----------------------+----------------------+\n",
      "|   7  NVIDIA RTX A5000    Off  | 00000000:8C:00.0 Off |                  Off |\n",
      "| 30%   24C    P8    17W / 230W |      6MiB / 24564MiB |      0%      Default |\n",
      "|                               |                      |                  N/A |\n",
      "+-------------------------------+----------------------+----------------------+\n",
      "                                                                               \n",
      "+-----------------------------------------------------------------------------+\n",
      "| Processes:                                                                  |\n",
      "|  GPU   GI   CI        PID   Type   Process name                  GPU Memory |\n",
      "|        ID   ID                                                   Usage      |\n",
      "|=============================================================================|\n",
      "|    0   N/A  N/A      3595      G   /usr/lib/xorg/Xorg                  4MiB |\n",
      "|    1   N/A  N/A      3595      G   /usr/lib/xorg/Xorg                  4MiB |\n",
      "|    1   N/A  N/A    403234      C   ...onda3/envs/ste/bin/python     2298MiB |\n",
      "|    2   N/A  N/A      3595      G   /usr/lib/xorg/Xorg                  4MiB |\n",
      "|    2   N/A  N/A     36805      C   ...onda3/envs/ste/bin/python      884MiB |\n",
      "|    3   N/A  N/A      3595      G   /usr/lib/xorg/Xorg                  4MiB |\n",
      "|    4   N/A  N/A      3595      G   /usr/lib/xorg/Xorg                  4MiB |\n",
      "|    5   N/A  N/A      3595      G   /usr/lib/xorg/Xorg                  4MiB |\n",
      "|    6   N/A  N/A      3595      G   /usr/lib/xorg/Xorg                  4MiB |\n",
      "|    7   N/A  N/A      3595      G   /usr/lib/xorg/Xorg                  4MiB |\n",
      "+-----------------------------------------------------------------------------+\n"
     ]
    }
   ],
   "source": [
    "import torch\n",
    "import torch.nn as nn\n",
    "import torch.nn.functional as F\n",
    "import numpy as np\n",
    "import os\n",
    "\n",
    "!nvidia-smi\n",
    "os.environ[\"CUDA_VISIBLE_DEVICES\"]=\"2\""
   ]
  },
  {
   "cell_type": "markdown",
   "id": "cee05e12",
   "metadata": {},
   "source": [
    "### Hyperparams"
   ]
  },
  {
   "cell_type": "code",
   "execution_count": 3,
   "id": "fb821737",
   "metadata": {},
   "outputs": [],
   "source": [
    "n_mels = 1205\n",
    "n_outputs = 61\n",
    "n_frames = 400"
   ]
  },
  {
   "cell_type": "markdown",
   "id": "58c54e68",
   "metadata": {},
   "source": [
    "### Model"
   ]
  },
  {
   "cell_type": "code",
   "execution_count": 4,
   "id": "cedcf798",
   "metadata": {},
   "outputs": [
    {
     "name": "stdout",
     "output_type": "stream",
     "text": [
      "done\n"
     ]
    }
   ],
   "source": [
    "from model.model_glowtts_sid import Model\n",
    "from utils.util import *\n",
    "from tensorboardX import SummaryWriter\n",
    "\n",
    "step = 0\n",
    "device = 'cuda:0'\n",
    "\n",
    "# Model\n",
    "model = Model(in_dim=n_mels, enc_hidden_dim=256, out_dim=61, dec_hidden_dim=256)\n",
    "model = model.to(device)\n",
    "optimizer = torch.optim.AdamW(model.parameters(), lr=3e-5)\n",
    "print('done')"
   ]
  },
  {
   "cell_type": "markdown",
   "id": "31748b8c",
   "metadata": {},
   "source": [
    "### Load"
   ]
  },
  {
   "cell_type": "code",
   "execution_count": 5,
   "id": "998d7f8f",
   "metadata": {
    "scrolled": true
   },
   "outputs": [
    {
     "name": "stdout",
     "output_type": "stream",
     "text": [
      "total 646940\r\n",
      "-rw-rw-r-- 1 scpark scpark        40  8월 24 17:34 events.out.tfevents.1692865738.GPUSVR01\r\n",
      "-rw-rw-r-- 1 scpark scpark 662455517  8월 24 10:46 save_130000\r\n"
     ]
    }
   ],
   "source": [
    "save_dir = '/data/scpark/save/lips/train08.21-1/'\n",
    "!mkdir -p $save_dir\n",
    "!ls -lt $save_dir\n",
    "\n",
    "writer = SummaryWriter(save_dir)\n",
    "\n",
    "if False:\n",
    "    step, model, _, optimizer = load(save_dir, 50421, model, None, optimizer)"
   ]
  },
  {
   "cell_type": "markdown",
   "id": "b71d7b3c",
   "metadata": {},
   "source": [
    "### Dataset"
   ]
  },
  {
   "cell_type": "code",
   "execution_count": 6,
   "id": "8a8aa62c",
   "metadata": {
    "scrolled": true
   },
   "outputs": [
    {
     "name": "stdout",
     "output_type": "stream",
     "text": [
      "39\n",
      "0 /data/speech/digital_human/preprocessed/MH_ARKit_001_1_iPhone_raw.npy\n",
      "0 /data/speech/digital_human/preprocessed/MH_ARKit_001_2_iPhone_raw.npy\n",
      "0 /data/speech/digital_human/preprocessed/MH_ARKit_001_3_iPhone_raw.npy\n",
      "0 /data/speech/digital_human/preprocessed/MH_ARKit_001_4_iPhone_raw.npy\n",
      "0 /data/speech/digital_human/preprocessed/MH_ARKit_001_5_iPhone_raw.npy\n",
      "0 /data/speech/digital_human/preprocessed/MH_ARKit_001_6_iPhone_raw.npy\n",
      "0 /data/speech/digital_human/preprocessed/MH_ARKit_001_7_iPhone_raw.npy\n",
      "0 /data/speech/digital_human/preprocessed/MH_ARKit_001_8_iPhone_raw.npy\n",
      "0 /data/speech/digital_human/preprocessed/MH_ARKit_001_9_iPhone_raw.npy\n",
      "0 /data/speech/digital_human/preprocessed/MH_ARKit_002_10_iPhone_raw.npy\n",
      "0 /data/speech/digital_human/preprocessed/MH_ARKit_002_1_iPhone_raw.npy\n",
      "0 /data/speech/digital_human/preprocessed/MH_ARKit_002_2_iPhone_raw.npy\n",
      "0 /data/speech/digital_human/preprocessed/MH_ARKit_002_3_iPhone_raw.npy\n",
      "0 /data/speech/digital_human/preprocessed/MH_ARKit_002_4_iPhone_raw.npy\n",
      "0 /data/speech/digital_human/preprocessed/MH_ARKit_002_5_iPhone_raw.npy\n",
      "0 /data/speech/digital_human/preprocessed/MH_ARKit_002_6_iPhone_raw.npy\n",
      "0 /data/speech/digital_human/preprocessed/MH_ARKit_002_7_iPhone_raw.npy\n",
      "0 /data/speech/digital_human/preprocessed/MH_ARKit_002_8_iPhone_raw.npy\n",
      "0 /data/speech/digital_human/preprocessed/MH_ARKit_002_9_iPhone_raw.npy\n",
      "0 /data/speech/digital_human/preprocessed/MH_ARKit_003_10_iPhone_raw.npy\n",
      "18 2\n"
     ]
    }
   ],
   "source": [
    "import os\n",
    "from data.arkit_dataset import LipsDataset, CombinedDataset, CombinedCollate\n",
    "\n",
    "root_dir = '/data/speech/digital_human/preprocessed/'\n",
    "\n",
    "def get_files(dir):\n",
    "    data = []\n",
    "    files = sorted([os.path.join(dir, file) for file in os.listdir(dir)])\n",
    "    for file in files:\n",
    "        if file.endswith('.npy') and 'ARKit' in file:\n",
    "            data.append(file)\n",
    "        if os.path.isdir(file):\n",
    "            data.extend(get_files(os.path.join(dir, file)))\n",
    "    return data\n",
    "\n",
    "files = get_files(root_dir)\n",
    "print(len(files))\n",
    "\n",
    "train_datasets = []\n",
    "test_datasets = []\n",
    "\n",
    "def get_sid(file):\n",
    "    names = ['No Speaker', 'jeewonPark', 'jinwooOh', 'kyuchulLee', 'kyuseokKim', 'nohsikPark', 'soochulPark', 'yehunHwang']\n",
    "    for sid, name in enumerate(names):\n",
    "        if name in file:\n",
    "            return sid\n",
    "    return 0\n",
    "\n",
    "for file in files:\n",
    "    sid = get_sid(file)\n",
    "    print(sid, file)\n",
    "    dataset = LipsDataset(file, n_mels, n_frames, sid=sid, mel=False)\n",
    "    if '_10_' in file:\n",
    "        test_datasets.append(dataset)\n",
    "    else:\n",
    "        train_datasets.append(dataset)\n",
    "print(len(train_datasets), len(test_datasets))"
   ]
  },
  {
   "cell_type": "code",
   "execution_count": 7,
   "id": "4bc7cac0",
   "metadata": {},
   "outputs": [
    {
     "name": "stdout",
     "output_type": "stream",
     "text": [
      "done\n"
     ]
    }
   ],
   "source": [
    "train_loader = torch.utils.data.DataLoader(CombinedDataset(train_datasets), \n",
    "                                           num_workers=16, shuffle=True, batch_size=32, collate_fn=CombinedCollate())\n",
    "test_loader = torch.utils.data.DataLoader(CombinedDataset(test_datasets), \n",
    "                                          num_workers=10, shuffle=True, batch_size=10, collate_fn=CombinedCollate())\n",
    "print('done')"
   ]
  },
  {
   "cell_type": "code",
   "execution_count": 8,
   "id": "a05691c0",
   "metadata": {},
   "outputs": [
    {
     "name": "stderr",
     "output_type": "stream",
     "text": [
      "Special tokens have been added in the vocabulary, make sure the associated word embeddings are fine-tuned or trained.\n"
     ]
    },
    {
     "name": "stdout",
     "output_type": "stream",
     "text": [
      "done\n"
     ]
    }
   ],
   "source": [
    "from transformers import Wav2Vec2ForCTC, Wav2Vec2Processor\n",
    "\n",
    "processor = Wav2Vec2Processor.from_pretrained(\"kresnik/wav2vec2-large-xlsr-korean\")\n",
    "wav2vec = Wav2Vec2ForCTC.from_pretrained(\"kresnik/wav2vec2-large-xlsr-korean\").to(device)\n",
    "print('done')"
   ]
  },
  {
   "cell_type": "code",
   "execution_count": 9,
   "id": "72e6359e",
   "metadata": {},
   "outputs": [],
   "source": [
    "from torchaudio.transforms import Resample\n",
    "resample = Resample(24000, 16000).to(device)\n",
    "\n",
    "def get_probs(wav, size):\n",
    "    # 24k to 16k\n",
    "    wav = resample(wav)\n",
    "    # Get probs.\n",
    "    with torch.no_grad():\n",
    "        logits = wav2vec(wav).logits\n",
    "        probs = torch.softmax(logits, dim=-1)\n",
    "    probs = probs.transpose(1, 2)\n",
    "    print(probs.shape)\n",
    "    # Resizing\n",
    "    probs = F.interpolate(probs, size=size, mode='linear').detach()\n",
    "    print(probs.shape)\n",
    "    return probs\n"
   ]
  },
  {
   "cell_type": "code",
   "execution_count": null,
   "id": "03238ce2",
   "metadata": {
    "scrolled": false
   },
   "outputs": [
    {
     "name": "stdout",
     "output_type": "stream",
     "text": [
      "torch.Size([32, 1205, 666])\n",
      "torch.Size([32, 1205, 400])\n",
      "50421\n",
      "loss -5.039287567138672\n",
      "50421 -5.039287567138672\n",
      "torch.Size([32, 1205, 666])\n",
      "torch.Size([32, 1205, 400])\n",
      "50422\n",
      "loss -5.04115104675293\n",
      "50422 -5.04115104675293\n",
      "torch.Size([32, 1205, 666])\n",
      "torch.Size([32, 1205, 400])\n",
      "50423\n",
      "loss -5.070566177368164\n",
      "50423 -5.070566177368164\n",
      "torch.Size([32, 1205, 666])\n",
      "torch.Size([32, 1205, 400])\n",
      "50424\n",
      "loss -5.140014171600342\n",
      "50424 -5.140014171600342\n",
      "torch.Size([32, 1205, 666])\n",
      "torch.Size([32, 1205, 400])\n",
      "50425\n",
      "loss -5.125100612640381\n",
      "50425 -5.125100612640381\n",
      "torch.Size([32, 1205, 666])\n",
      "torch.Size([32, 1205, 400])\n",
      "50426\n",
      "loss -5.0268168449401855\n",
      "50426 -5.0268168449401855\n",
      "torch.Size([32, 1205, 666])\n",
      "torch.Size([32, 1205, 400])\n",
      "50427\n",
      "loss -5.094602108001709\n",
      "50427 -5.094602108001709\n",
      "torch.Size([32, 1205, 666])\n",
      "torch.Size([32, 1205, 400])\n"
     ]
    }
   ],
   "source": [
    "from IPython import display\n",
    "import librosa.display\n",
    "import matplotlib.pyplot as plt\n",
    "\n",
    "isnan = False\n",
    "while True:\n",
    "    if isnan:\n",
    "        break\n",
    "    for batch in train_loader:\n",
    "        targets = torch.Tensor(batch['blend']).transpose(1, 2).to(device)\n",
    "        inputs = get_probs(torch.Tensor(batch['wav']).to(device), targets.shape[-1])\n",
    "        sid = torch.Tensor(batch['sid']).int().to(device)\n",
    "        \n",
    "        model.train()\n",
    "        model.zero_grad()\n",
    "        outputs = model(inputs, targets, sid)\n",
    "        \n",
    "        print(step)\n",
    "        loss = 0\n",
    "        for key in outputs.keys():\n",
    "            if 'loss' in key:\n",
    "                loss += outputs[key]\n",
    "                print(key, outputs[key].item())\n",
    "        if torch.isnan(loss):\n",
    "            isnan = True\n",
    "            break\n",
    "        loss.backward()\n",
    "        optimizer.step()\n",
    "        print(step, loss.item())\n",
    "        \n",
    "        if step % 1000 == 0:\n",
    "            writer.add_scalar('train_loss', loss.item(), step)\n",
    "        \n",
    "        if step % 1000 == 0:\n",
    "            display.clear_output()\n",
    "            \n",
    "            losses = []\n",
    "            for i, batch in enumerate(test_loader):\n",
    "                if i >= 10:\n",
    "                    break\n",
    "                    \n",
    "                targets = torch.Tensor(batch['blend']).transpose(1, 2).to(device)\n",
    "                inputs = get_probs(torch.Tensor(batch['wav']).to(device), targets.shape[-1])\n",
    "                sid = torch.Tensor(batch['sid']).int().to(device)\n",
    "\n",
    "                model.eval()\n",
    "                with torch.no_grad():\n",
    "                    outputs = model(inputs, targets, sid)\n",
    "                    \n",
    "                loss = 0\n",
    "                for key in outputs.keys():\n",
    "                    if 'loss' in key:\n",
    "                        loss += outputs[key]\n",
    "                print('test :', i, loss.item())\n",
    "                losses.append(loss)        \n",
    "            \n",
    "            test_loss = torch.stack(losses).mean().item()\n",
    "            print('test_loss :', test_loss)\n",
    "            writer.add_scalar('test_loss', test_loss, step)\n",
    "            \n",
    "            plt.figure(figsize=[18, 4])\n",
    "            librosa.display.specshow(targets[0].data.cpu().numpy(), cmap='magma')\n",
    "            plt.show()\n",
    "\n",
    "            model.eval()\n",
    "            with torch.no_grad():\n",
    "                y_pred = model.inference(inputs, sid)\n",
    "\n",
    "            plt.figure(figsize=[18, 4])\n",
    "            librosa.display.specshow(y_pred[0].data.cpu().numpy(), cmap='magma')\n",
    "            plt.show()\n",
    "            \n",
    "            for i in [20, 37]:\n",
    "                plt.figure(figsize=[18, 2])\n",
    "                plt.title(str(i))\n",
    "                plt.plot(targets[0].data.cpu().numpy()[i])\n",
    "                plt.plot(y_pred[0].data.cpu().numpy()[i])\n",
    "                plt.show()\n",
    "\n",
    "        if step % 10000 == 0:\n",
    "            save(save_dir, step, model, None, optimizer)\n",
    "    \n",
    "        step += 1"
   ]
  },
  {
   "cell_type": "code",
   "execution_count": null,
   "id": "e1c85fda",
   "metadata": {},
   "outputs": [],
   "source": [
    "save(save_dir, step, model, None, optimizer)"
   ]
  },
  {
   "cell_type": "code",
   "execution_count": null,
   "id": "08695381",
   "metadata": {},
   "outputs": [],
   "source": [
    "print('done')"
   ]
  },
  {
   "cell_type": "code",
   "execution_count": null,
   "id": "e2467159",
   "metadata": {},
   "outputs": [],
   "source": []
  },
  {
   "cell_type": "code",
   "execution_count": null,
   "id": "9a99e776",
   "metadata": {},
   "outputs": [],
   "source": []
  }
 ],
 "metadata": {
  "kernelspec": {
   "display_name": "Python 3 (ipykernel)",
   "language": "python",
   "name": "python3"
  },
  "language_info": {
   "codemirror_mode": {
    "name": "ipython",
    "version": 3
   },
   "file_extension": ".py",
   "mimetype": "text/x-python",
   "name": "python",
   "nbconvert_exporter": "python",
   "pygments_lexer": "ipython3",
   "version": "3.9.15"
  }
 },
 "nbformat": 4,
 "nbformat_minor": 5
}
