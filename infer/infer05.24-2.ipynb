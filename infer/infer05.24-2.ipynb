{
 "cells": [
  {
   "cell_type": "code",
   "execution_count": 1,
   "id": "78297a3f",
   "metadata": {},
   "outputs": [],
   "source": [
    "import os\n",
    "os.chdir('../')\n",
    "\n",
    "import warnings\n",
    "warnings.filterwarnings('ignore')"
   ]
  },
  {
   "cell_type": "code",
   "execution_count": 2,
   "id": "bbd99c47",
   "metadata": {
    "scrolled": true
   },
   "outputs": [
    {
     "name": "stdout",
     "output_type": "stream",
     "text": [
      "Fri May 26 18:58:24 2023       \n",
      "+-----------------------------------------------------------------------------+\n",
      "| NVIDIA-SMI 515.105.01   Driver Version: 515.105.01   CUDA Version: 11.7     |\n",
      "|-------------------------------+----------------------+----------------------+\n",
      "| GPU  Name        Persistence-M| Bus-Id        Disp.A | Volatile Uncorr. ECC |\n",
      "| Fan  Temp  Perf  Pwr:Usage/Cap|         Memory-Usage | GPU-Util  Compute M. |\n",
      "|                               |                      |               MIG M. |\n",
      "|===============================+======================+======================|\n",
      "|   0  NVIDIA RTX A5000    Off  | 00000000:1B:00.0 Off |                    0 |\n",
      "| 30%   34C    P2    56W / 230W |   2884MiB / 23028MiB |      0%      Default |\n",
      "|                               |                      |                  N/A |\n",
      "+-------------------------------+----------------------+----------------------+\n",
      "|   1  NVIDIA RTX A5000    Off  | 00000000:1C:00.0 Off |                  Off |\n",
      "| 30%   52C    P2   104W / 230W |  17677MiB / 24564MiB |     16%      Default |\n",
      "|                               |                      |                  N/A |\n",
      "+-------------------------------+----------------------+----------------------+\n",
      "|   2  NVIDIA RTX A5000    Off  | 00000000:1D:00.0 Off |                  Off |\n",
      "| 30%   49C    P2   103W / 230W |  14547MiB / 24564MiB |     12%      Default |\n",
      "|                               |                      |                  N/A |\n",
      "+-------------------------------+----------------------+----------------------+\n",
      "|   3  NVIDIA RTX A5000    Off  | 00000000:1E:00.0 Off |                  Off |\n",
      "| 30%   51C    P2   141W / 230W |  17983MiB / 24564MiB |     27%      Default |\n",
      "|                               |                      |                  N/A |\n",
      "+-------------------------------+----------------------+----------------------+\n",
      "|   4  NVIDIA RTX A5000    Off  | 00000000:89:00.0 Off |                  Off |\n",
      "| 30%   57C    P2   153W / 230W |  20349MiB / 24564MiB |     26%      Default |\n",
      "|                               |                      |                  N/A |\n",
      "+-------------------------------+----------------------+----------------------+\n",
      "|   5  NVIDIA RTX A5000    Off  | 00000000:8A:00.0 Off |                  Off |\n",
      "| 30%   52C    P2   113W / 230W |  18575MiB / 24564MiB |      0%      Default |\n",
      "|                               |                      |                  N/A |\n",
      "+-------------------------------+----------------------+----------------------+\n",
      "|   6  NVIDIA RTX A5000    Off  | 00000000:8B:00.0 Off |                  Off |\n",
      "| 30%   26C    P8    17W / 230W |      8MiB / 24564MiB |      0%      Default |\n",
      "|                               |                      |                  N/A |\n",
      "+-------------------------------+----------------------+----------------------+\n",
      "|   7  NVIDIA RTX A5000    Off  | 00000000:8C:00.0 Off |                  Off |\n",
      "| 30%   26C    P8    17W / 230W |      8MiB / 24564MiB |      0%      Default |\n",
      "|                               |                      |                  N/A |\n",
      "+-------------------------------+----------------------+----------------------+\n",
      "                                                                               \n",
      "+-----------------------------------------------------------------------------+\n",
      "| Processes:                                                                  |\n",
      "|  GPU   GI   CI        PID   Type   Process name                  GPU Memory |\n",
      "|        ID   ID                                                   Usage      |\n",
      "|=============================================================================|\n",
      "|    0   N/A  N/A      3580      G   /usr/lib/xorg/Xorg                  4MiB |\n",
      "|    0   N/A  N/A   2336909      C   ...3/envs/vspeech/bin/python     2515MiB |\n",
      "|    0   N/A  N/A   2855254      C   ...onda3/envs/ste/bin/python      361MiB |\n",
      "|    1   N/A  N/A      3580      G   /usr/lib/xorg/Xorg                  4MiB |\n",
      "|    1   N/A  N/A   1228692      C   ...3/envs/vspeech/bin/python    17669MiB |\n",
      "|    2   N/A  N/A      3580      G   /usr/lib/xorg/Xorg                  4MiB |\n",
      "|    2   N/A  N/A   1577592      C   ...3/envs/vspeech/bin/python    14539MiB |\n",
      "|    3   N/A  N/A      3580      G   /usr/lib/xorg/Xorg                  4MiB |\n",
      "|    3   N/A  N/A   2613533      C   ...3/envs/vspeech/bin/python    17975MiB |\n",
      "|    4   N/A  N/A      3580      G   /usr/lib/xorg/Xorg                  4MiB |\n",
      "|    4   N/A  N/A   2969687      C   ...3/envs/vspeech/bin/python    20341MiB |\n",
      "|    5   N/A  N/A      3580      G   /usr/lib/xorg/Xorg                  4MiB |\n",
      "|    5   N/A  N/A   3096022      C   ...3/envs/vspeech/bin/python    18567MiB |\n",
      "|    6   N/A  N/A      3580      G   /usr/lib/xorg/Xorg                  4MiB |\n",
      "|    7   N/A  N/A      3580      G   /usr/lib/xorg/Xorg                  4MiB |\n",
      "+-----------------------------------------------------------------------------+\n"
     ]
    }
   ],
   "source": [
    "import torch\n",
    "import torch.nn as nn\n",
    "import torch.nn.functional as F\n",
    "import numpy as np\n",
    "import os\n",
    "\n",
    "!nvidia-smi\n",
    "os.environ[\"CUDA_VISIBLE_DEVICES\"]=\"0\""
   ]
  },
  {
   "cell_type": "markdown",
   "id": "146f7414",
   "metadata": {},
   "source": [
    "### Hyperparams"
   ]
  },
  {
   "cell_type": "code",
   "execution_count": 3,
   "id": "205b3ae9",
   "metadata": {},
   "outputs": [],
   "source": [
    "n_mels = 8\n",
    "n_outputs = 61\n",
    "n_frames = 400\n",
    "sr = 24000\n",
    "fps = 30\n",
    "n_fft = int(sr/fps)"
   ]
  },
  {
   "cell_type": "markdown",
   "id": "a85ba9cc",
   "metadata": {},
   "source": [
    "### Model"
   ]
  },
  {
   "cell_type": "code",
   "execution_count": 4,
   "id": "e1783a54",
   "metadata": {},
   "outputs": [
    {
     "name": "stdout",
     "output_type": "stream",
     "text": [
      "done\n"
     ]
    }
   ],
   "source": [
    "from model.model_vqvae import Model\n",
    "device = 'cuda:0'\n",
    "\n",
    "# Model\n",
    "model = Model(in_dim=n_mels, out_dim=n_outputs, K=16, latent_dim=128)\n",
    "model = model.to(device)\n",
    "print('done')"
   ]
  },
  {
   "cell_type": "code",
   "execution_count": 5,
   "id": "ce852cba",
   "metadata": {
    "scrolled": true
   },
   "outputs": [
    {
     "name": "stdout",
     "output_type": "stream",
     "text": [
      "total 16310584\n",
      "-rw-rw-r-- 1 scpark scpark     47422  5월 25 00:28 events.out.tfevents.1684918898.GPUSVR01\n",
      "-rw-rw-r-- 1 scpark scpark 340853499  5월 25 00:27 save_48000\n",
      "-rw-rw-r-- 1 scpark scpark 340853499  5월 25 00:19 save_47000\n",
      "-rw-rw-r-- 1 scpark scpark 340853499  5월 25 00:11 save_46000\n",
      "-rw-rw-r-- 1 scpark scpark 340853499  5월 25 00:03 save_45000\n",
      "-rw-rw-r-- 1 scpark scpark 340853499  5월 24 23:55 save_44000\n",
      "-rw-rw-r-- 1 scpark scpark 340853499  5월 24 23:47 save_43000\n",
      "-rw-rw-r-- 1 scpark scpark 340853499  5월 24 23:39 save_42000\n",
      "-rw-rw-r-- 1 scpark scpark 340853499  5월 24 23:31 save_41000\n",
      "-rw-rw-r-- 1 scpark scpark 340853499  5월 24 23:23 save_40000\n",
      "-rw-rw-r-- 1 scpark scpark 340853499  5월 24 23:15 save_39000\n",
      "-rw-rw-r-- 1 scpark scpark 340853499  5월 24 23:07 save_38000\n",
      "-rw-rw-r-- 1 scpark scpark 340853499  5월 24 22:58 save_37000\n",
      "-rw-rw-r-- 1 scpark scpark 340853499  5월 24 22:50 save_36000\n",
      "-rw-rw-r-- 1 scpark scpark 340853499  5월 24 22:42 save_35000\n",
      "-rw-rw-r-- 1 scpark scpark 340853499  5월 24 22:34 save_34000\n",
      "-rw-rw-r-- 1 scpark scpark 340853499  5월 24 22:26 save_33000\n",
      "-rw-rw-r-- 1 scpark scpark 340853499  5월 24 22:18 save_32000\n",
      "-rw-rw-r-- 1 scpark scpark 340853499  5월 24 22:10 save_31000\n",
      "-rw-rw-r-- 1 scpark scpark 340853499  5월 24 22:02 save_30000\n",
      "-rw-rw-r-- 1 scpark scpark 340853499  5월 24 21:54 save_29000\n",
      "-rw-rw-r-- 1 scpark scpark 340853499  5월 24 21:46 save_28000\n",
      "-rw-rw-r-- 1 scpark scpark 340853499  5월 24 21:38 save_27000\n",
      "-rw-rw-r-- 1 scpark scpark 340853499  5월 24 21:30 save_26000\n",
      "-rw-rw-r-- 1 scpark scpark 340853499  5월 24 21:22 save_25000\n",
      "-rw-rw-r-- 1 scpark scpark 340853499  5월 24 21:14 save_24000\n",
      "-rw-rw-r-- 1 scpark scpark 340853499  5월 24 21:06 save_23000\n",
      "-rw-rw-r-- 1 scpark scpark 340853499  5월 24 20:58 save_22000\n",
      "-rw-rw-r-- 1 scpark scpark 340853499  5월 24 20:50 save_21000\n",
      "-rw-rw-r-- 1 scpark scpark 340853499  5월 24 20:42 save_20000\n",
      "-rw-rw-r-- 1 scpark scpark 340853499  5월 24 20:34 save_19000\n",
      "-rw-rw-r-- 1 scpark scpark 340853499  5월 24 20:26 save_18000\n",
      "-rw-rw-r-- 1 scpark scpark 340853499  5월 24 20:18 save_17000\n",
      "-rw-rw-r-- 1 scpark scpark 340853499  5월 24 20:10 save_16000\n",
      "-rw-rw-r-- 1 scpark scpark 340853499  5월 24 20:02 save_15000\n",
      "-rw-rw-r-- 1 scpark scpark 340853499  5월 24 19:54 save_14000\n",
      "-rw-rw-r-- 1 scpark scpark 340853499  5월 24 19:46 save_13000\n",
      "-rw-rw-r-- 1 scpark scpark 340853499  5월 24 19:38 save_12000\n",
      "-rw-rw-r-- 1 scpark scpark 340853499  5월 24 19:30 save_11000\n",
      "-rw-rw-r-- 1 scpark scpark 340853499  5월 24 19:21 save_10000\n",
      "-rw-rw-r-- 1 scpark scpark 340853499  5월 24 19:13 save_9000\n",
      "-rw-rw-r-- 1 scpark scpark 340853499  5월 24 19:05 save_8000\n",
      "-rw-rw-r-- 1 scpark scpark 340853499  5월 24 18:57 save_7000\n",
      "-rw-rw-r-- 1 scpark scpark 340853499  5월 24 18:49 save_6000\n",
      "-rw-rw-r-- 1 scpark scpark 340853499  5월 24 18:41 save_5000\n",
      "-rw-rw-r-- 1 scpark scpark 340853499  5월 24 18:33 save_4000\n",
      "-rw-rw-r-- 1 scpark scpark 340853499  5월 24 18:25 save_3000\n",
      "-rw-rw-r-- 1 scpark scpark 340853499  5월 24 18:17 save_2000\n",
      "-rw-rw-r-- 1 scpark scpark 340853499  5월 24 18:09 save_1000\n",
      "-rw-rw-r-- 1 scpark scpark 340853499  5월 24 18:01 save_0\n",
      "done\n"
     ]
    }
   ],
   "source": [
    "load_dir = '/data/scpark/save/lips/train05.24-2/'\n",
    "!ls -lt $load_dir\n",
    "\n",
    "path = load_dir + 'save_' + str(10000)\n",
    "checkpoint = torch.load(path, map_location=torch.device('cpu'))    \n",
    "model.load_state_dict(checkpoint['model_state_dict'], strict=True)\n",
    "print('done')"
   ]
  },
  {
   "cell_type": "markdown",
   "id": "75ea0993",
   "metadata": {},
   "source": [
    "### Inference"
   ]
  },
  {
   "cell_type": "code",
   "execution_count": 6,
   "id": "158aaabb",
   "metadata": {},
   "outputs": [
    {
     "name": "stdout",
     "output_type": "stream",
     "text": [
      "(8, 300) torch.Size([1, 8, 300])\n"
     ]
    }
   ],
   "source": [
    "import librosa\n",
    "\n",
    "wav_file = '/Storage/RVH/w2fDataSet/a2f_data/wav/VIV_A2F_1_studios_iPhone_en.wav'\n",
    "offset = 60\n",
    "duration = 10\n",
    "wav, _ = librosa.load(wav_file, sr=sr, offset=offset, duration=duration, res_type='polyphase')\n",
    "wav = wav / max(abs(wav))\n",
    "mel = librosa.feature.melspectrogram(y=wav, sr=sr, n_fft=n_fft, hop_length=n_fft, center=False, n_mels=n_mels)\n",
    "mel = np.log10(mel + 1e-5)\n",
    "mel_tensor = torch.Tensor(mel).unsqueeze(0).to(device)\n",
    "print(mel.shape, mel_tensor.shape)"
   ]
  },
  {
   "cell_type": "code",
   "execution_count": 18,
   "id": "59dd13bd",
   "metadata": {},
   "outputs": [
    {
     "name": "stdout",
     "output_type": "stream",
     "text": [
      "c shape : torch.Size([1, 128, 300])\n",
      "zi shape : torch.Size([1, 300])\n",
      "zq shape : torch.Size([1, 128, 300])\n",
      "y shape : torch.Size([1, 61, 300])\n"
     ]
    },
    {
     "data": {
      "image/png": "[encoded data removed]",
      "text/plain": [
       "<Figure size 1800x300 with 1 Axes>"
      ]
     },
     "metadata": {},
     "output_type": "display_data"
    },
    {
     "data": {
      "image/png": "[encoded data removed]",
      "text/plain": [
       "<Figure size 1800x300 with 1 Axes>"
      ]
     },
     "metadata": {},
     "output_type": "display_data"
    }
   ],
   "source": [
    "import librosa.display\n",
    "import matplotlib.pyplot as plt\n",
    "\n",
    "model.eval()\n",
    "with torch.no_grad():\n",
    "    pred = model.inference(mel_tensor, n_beams=20, n_depth=3)\n",
    "\n",
    "plt.figure(figsize=[18, 3])\n",
    "librosa.display.specshow(pred[0].data.cpu().numpy(), cmap='magma')\n",
    "plt.show()\n",
    "\n",
    "plt.figure(figsize=[18, 3])\n",
    "librosa.display.specshow(mel_tensor[0].data.cpu().numpy(), cmap='magma')\n",
    "plt.show()"
   ]
  },
  {
   "cell_type": "code",
   "execution_count": 19,
   "id": "8eea9256",
   "metadata": {},
   "outputs": [
    {
     "data": {
      "text/plain": [
       "torch.Size([1, 61, 300])"
      ]
     },
     "execution_count": 19,
     "metadata": {},
     "output_type": "execute_result"
    }
   ],
   "source": [
    "pred.shape"
   ]
  },
  {
   "cell_type": "code",
   "execution_count": null,
   "id": "8be6ffab",
   "metadata": {},
   "outputs": [],
   "source": []
  },
  {
   "cell_type": "code",
   "execution_count": null,
   "id": "cedac976",
   "metadata": {},
   "outputs": [],
   "source": []
  }
 ],
 "metadata": {
  "kernelspec": {
   "display_name": "ste2",
   "language": "python",
   "name": "ste2"
  },
  "language_info": {
   "codemirror_mode": {
    "name": "ipython",
    "version": 3
   },
   "file_extension": ".py",
   "mimetype": "text/x-python",
   "name": "python",
   "nbconvert_exporter": "python",
   "pygments_lexer": "ipython3",
   "version": "3.9.15"
  }
 },
 "nbformat": 4,
 "nbformat_minor": 5
}
