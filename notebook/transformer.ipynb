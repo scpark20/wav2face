{
 "cells": [
  {
   "cell_type": "code",
   "execution_count": 23,
   "id": "990d9fc9",
   "metadata": {},
   "outputs": [],
   "source": [
    "import torch\n",
    "from attentions import Encoder\n",
    "import commons"
   ]
  },
  {
   "cell_type": "code",
   "execution_count": 26,
   "id": "c6daffdf",
   "metadata": {},
   "outputs": [
    {
     "name": "stdout",
     "output_type": "stream",
     "text": [
      "torch.Size([2, 1, 512])\n"
     ]
    }
   ],
   "source": []
  },
  {
   "cell_type": "code",
   "execution_count": 20,
   "id": "3a391ed6",
   "metadata": {},
   "outputs": [],
   "source": [
    "encoder = Encoder(hidden_channels=512, filter_channels=2048, n_heads=4, n_layers=6, kernel_size=3, p_dropout=0.1, window_size=4)\n"
   ]
  },
  {
   "cell_type": "code",
   "execution_count": 28,
   "id": "e0207649",
   "metadata": {
    "scrolled": true
   },
   "outputs": [
    {
     "name": "stdout",
     "output_type": "stream",
     "text": [
      "torch.Size([2, 512, 100])\n"
     ]
    }
   ],
   "source": [
    "x = torch.randn(2, 512, 100)\n",
    "x_lengths = torch.Tensor([100, 50])\n",
    "x_mask = torch.unsqueeze(commons.sequence_mask(x_lengths, x.size(2)), 1).to(x.dtype)\n",
    "y = encoder(x, x_mask)\n",
    "print(y.shape)"
   ]
  },
  {
   "cell_type": "code",
   "execution_count": 29,
   "id": "23a13dc6",
   "metadata": {},
   "outputs": [
    {
     "data": {
      "text/plain": [
       "tensor([[[ 1.2909e+00, -4.0556e-01, -2.0697e-01,  ..., -1.4038e+00,\n",
       "           2.8695e-01, -4.3692e-01],\n",
       "         [-9.7334e-01,  3.8112e-02,  1.0355e-04,  ..., -1.3874e-02,\n",
       "          -5.6255e-01,  8.0587e-01],\n",
       "         [ 1.4795e+00,  4.3760e-01,  4.7932e-01,  ...,  1.7961e+00,\n",
       "           8.2251e-01,  1.4247e+00],\n",
       "         ...,\n",
       "         [ 1.7097e+00,  1.3604e+00, -1.7497e+00,  ...,  5.9366e-01,\n",
       "          -2.6103e-01, -3.9848e-02],\n",
       "         [ 8.6008e-01, -3.1866e-02,  1.0089e-01,  ...,  8.3694e-01,\n",
       "           1.0029e-01, -5.1494e-01],\n",
       "         [-7.0527e-01,  2.1157e-03, -1.0613e+00,  ..., -1.3989e-01,\n",
       "          -1.3770e+00, -7.9317e-01]],\n",
       "\n",
       "        [[ 4.1431e-01, -4.9360e-01,  3.9666e-01,  ...,  0.0000e+00,\n",
       "           0.0000e+00,  0.0000e+00],\n",
       "         [-4.6368e-01, -7.4326e-01, -7.7486e-01,  ..., -0.0000e+00,\n",
       "          -0.0000e+00, -0.0000e+00],\n",
       "         [ 3.1055e+00,  5.6613e-01,  1.0463e+00,  ..., -0.0000e+00,\n",
       "          -0.0000e+00, -0.0000e+00],\n",
       "         ...,\n",
       "         [-6.1397e-01,  1.3581e+00,  1.2747e+00,  ...,  0.0000e+00,\n",
       "           0.0000e+00,  0.0000e+00],\n",
       "         [-1.6057e+00, -2.7817e-01,  7.9823e-01,  ..., -0.0000e+00,\n",
       "          -0.0000e+00, -0.0000e+00],\n",
       "         [ 3.0669e-01, -1.1021e+00, -7.1006e-01,  ..., -0.0000e+00,\n",
       "           0.0000e+00,  0.0000e+00]]], grad_fn=<MulBackward0>)"
      ]
     },
     "execution_count": 29,
     "metadata": {},
     "output_type": "execute_result"
    }
   ],
   "source": [
    "y"
   ]
  },
  {
   "cell_type": "code",
   "execution_count": null,
   "id": "da38796d",
   "metadata": {},
   "outputs": [],
   "source": []
  }
 ],
 "metadata": {
  "kernelspec": {
   "display_name": "Python 3 (ipykernel)",
   "language": "python",
   "name": "python3"
  },
  "language_info": {
   "codemirror_mode": {
    "name": "ipython",
    "version": 3
   },
   "file_extension": ".py",
   "mimetype": "text/x-python",
   "name": "python",
   "nbconvert_exporter": "python",
   "pygments_lexer": "ipython3",
   "version": "3.9.16"
  }
 },
 "nbformat": 4,
 "nbformat_minor": 5
}
