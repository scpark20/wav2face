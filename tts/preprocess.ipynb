{
 "cells": [
  {
   "cell_type": "code",
   "execution_count": 1,
   "id": "288336e9",
   "metadata": {},
   "outputs": [],
   "source": [
    "import librosa \n",
    "\n",
    "train_wav_files = ['/Storage/speech/face/rvh_viseme2_1_iPhone.wav',\n",
    "                   '/Storage/speech/face/rvh_viseme2_2_iPhone.wav',\n",
    "                   '/Storage/speech/face/rvh_viseme2_3_iPhone.wav',\n",
    "                   '/Storage/speech/face/rvh_viseme2_4_iPhone.wav',\n",
    "                  ]\n"
   ]
  },
  {
   "cell_type": "code",
   "execution_count": 3,
   "id": "481b5f0f",
   "metadata": {},
   "outputs": [
    {
     "name": "stdout",
     "output_type": "stream",
     "text": [
      "209.04784580498867\n"
     ]
    }
   ],
   "source": [
    "wav, _ = librosa.load(train_wav_files[0])\n"
   ]
  },
  {
   "cell_type": "code",
   "execution_count": null,
   "id": "ae644732",
   "metadata": {},
   "outputs": [],
   "source": []
  }
 ],
 "metadata": {
  "kernelspec": {
   "display_name": "Python 3 (ipykernel)",
   "language": "python",
   "name": "python3"
  },
  "language_info": {
   "codemirror_mode": {
    "name": "ipython",
    "version": 3
   },
   "file_extension": ".py",
   "mimetype": "text/x-python",
   "name": "python",
   "nbconvert_exporter": "python",
   "pygments_lexer": "ipython3",
   "version": "3.9.16"
  }
 },
 "nbformat": 4,
 "nbformat_minor": 5
}
