{
 "cells": [
  {
   "cell_type": "code",
   "execution_count": 19,
   "id": "6520a65e",
   "metadata": {},
   "outputs": [],
   "source": [
    "import torch\n",
    "import torch.nn as nn\n",
    "import torch.nn.functional as F\n",
    "\n",
    "import numpy as np\n",
    "\n",
    "from flow import ResidualCouplingBlock\n",
    "from cbhg import CBHG\n",
    "\n",
    "class VAE(nn.Module):\n",
    "    def __init__(self, in_dim, z_dim):\n",
    "        super().__init__()\n",
    "        self.encoder = CBHG(in_dim, z_dim*2)\n",
    "        self.decoder = CBHG(z_dim, in_dim)\n",
    "\n",
    "    def forward(self, y):\n",
    "        # y : (b, c, t)\n",
    "        \n",
    "        z_params = self.encoder(y)\n",
    "        z_mean, z_logstd = z_params[:, :z_params.shape[1]//2], z_params[:, z_params.shape[1]//2:]\n",
    "        z_sample = z_mean + torch.randn_like(z_logstd)*z_logstd.exp()\n",
    "        y_pred = self.decoder(z_sample)\n",
    "        recon_loss = F.l1_loss(y, y_pred)\n",
    "        kl_loss = torch.mean(-z_logstd + 0.5 * (z_logstd.exp() ** 2 + z_mean ** 2) - 0.5)\n",
    "        data = {'recon_loss': recon_loss,\n",
    "                'kl_loss': kl_loss,\n",
    "                'vae_loss': recon_loss + kl_loss,\n",
    "                'z_sample': z_sample,\n",
    "                'y_pred': y_pred,\n",
    "               }\n",
    "        return data\n",
    "    \n",
    "    def inference(self, z_sample):\n",
    "        y_pred = self.decoder(y_sample)\n",
    "        return y_pred\n",
    "        \n",
    "class Model(nn.Module):\n",
    "    def __init__(self, in_dim, z_dim, out_dim):\n",
    "        super().__init__()\n",
    "        self.out_dim = out_dim\n",
    "        self.z_dim = z_dim\n",
    "        self.vae = VAE(out_dim, z_dim)\n",
    "        self.encoder = CBHG(in_dim, z_dim*2)\n",
    "        self.decoder = ResidualCouplingBlock(z_dim, 128, 5, 1, 4, gin_channels=0)\n",
    "        \n",
    "    def forward(self, x, y):\n",
    "        # x : (b, c, t)\n",
    "        # y : (b, c, t)\n",
    "        \n",
    "        vae_data = self.vae(y)\n",
    "        enc = self.encoder(x)\n",
    "        print(enc.shape)\n",
    "        z_mean, z_logstd = enc.split(self.z_dim, dim=1)\n",
    "        \n",
    "        z_mask = torch.ones(x.shape[0], 1, 1).to(x.device)\n",
    "        z, _ = self.decoder(vae_data['z_sample'], z_mask)\n",
    "        flow_loss = torch.mean(z_logstd + 0.5 * ((z_mean - z) / z_logstd.exp()) ** 2)\n",
    "        \n",
    "        data = {'flow_loss': flow_loss,\n",
    "                'total_loss': flow_loss + vae_loss,\n",
    "               }\n",
    "        data.update(vae_data)\n",
    "        return data\n",
    "    \n",
    "    def inference(self, x):\n",
    "        z_mean, z_logstd = self.encoder(x).split(self.z_dim, dim=1)\n",
    "        z_sample = z_mean + torch.randn_like(z_logstd)*z_logstd.exp()\n",
    "        y_pred = self.decoder(y_sample)\n",
    "        return y_pred"
   ]
  },
  {
   "cell_type": "code",
   "execution_count": 20,
   "id": "6e8456fe",
   "metadata": {
    "scrolled": true
   },
   "outputs": [
    {
     "name": "stdout",
     "output_type": "stream",
     "text": [
      "torch.Size([2, 32, 100])\n"
     ]
    }
   ],
   "source": [
    "model = Model(8, 16, 61)\n",
    "x = torch.randn(2, 8, 100)\n",
    "y = torch.randn(2, 61, 100)\n",
    "data = model(x, y)"
   ]
  },
  {
   "cell_type": "code",
   "execution_count": 21,
   "id": "6f700513",
   "metadata": {},
   "outputs": [
    {
     "data": {
      "text/plain": [
       "dict_keys(['flow_loss', 'recon_loss', 'kl_loss', 'vae_loss', 'z_sample', 'y_pred'])"
      ]
     },
     "execution_count": 21,
     "metadata": {},
     "output_type": "execute_result"
    }
   ],
   "source": [
    "data.keys()"
   ]
  },
  {
   "cell_type": "code",
   "execution_count": 22,
   "id": "a740d259",
   "metadata": {},
   "outputs": [
    {
     "data": {
      "text/plain": [
       "tensor(0.4896, grad_fn=<MeanBackward0>)"
      ]
     },
     "execution_count": 22,
     "metadata": {},
     "output_type": "execute_result"
    }
   ],
   "source": [
    "data['flow_loss']"
   ]
  },
  {
   "cell_type": "code",
   "execution_count": 23,
   "id": "104213ba",
   "metadata": {},
   "outputs": [
    {
     "data": {
      "text/plain": [
       "tensor(0.7981, grad_fn=<L1LossBackward0>)"
      ]
     },
     "execution_count": 23,
     "metadata": {},
     "output_type": "execute_result"
    }
   ],
   "source": [
    "data['recon_loss']"
   ]
  },
  {
   "cell_type": "code",
   "execution_count": 24,
   "id": "34e63eac",
   "metadata": {},
   "outputs": [
    {
     "data": {
      "text/plain": [
       "tensor(0.0033, grad_fn=<MeanBackward0>)"
      ]
     },
     "execution_count": 24,
     "metadata": {},
     "output_type": "execute_result"
    }
   ],
   "source": [
    "data['kl_loss']"
   ]
  },
  {
   "cell_type": "code",
   "execution_count": null,
   "id": "59def2c4",
   "metadata": {},
   "outputs": [],
   "source": []
  }
 ],
 "metadata": {
  "kernelspec": {
   "display_name": "torch2.0",
   "language": "python",
   "name": "torch2.0"
  },
  "language_info": {
   "codemirror_mode": {
    "name": "ipython",
    "version": 3
   },
   "file_extension": ".py",
   "mimetype": "text/x-python",
   "name": "python",
   "nbconvert_exporter": "python",
   "pygments_lexer": "ipython3",
   "version": "3.9.12"
  }
 },
 "nbformat": 4,
 "nbformat_minor": 5
}
