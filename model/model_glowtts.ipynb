{
 "cells": [
  {
   "cell_type": "code",
   "execution_count": 1,
   "id": "310a389c",
   "metadata": {},
   "outputs": [],
   "source": [
    "import os\n",
    "os.chdir('../')\n"
   ]
  },
  {
   "cell_type": "code",
   "execution_count": 36,
   "id": "5de5e198",
   "metadata": {},
   "outputs": [],
   "source": [
    "from glowtts.models import TextEncoder\n",
    "from glowtts.models import FlowSpecDecoder\n",
    "import glowtts.attentions as attentions\n",
    "import glowtts.commons as commons\n",
    "import torch\n",
    "import torch.nn as nn\n",
    "import torch.nn.functional as F\n",
    "import math"
   ]
  },
  {
   "cell_type": "code",
   "execution_count": 60,
   "id": "9ab1df54",
   "metadata": {},
   "outputs": [],
   "source": [
    "class Encoder(nn.Module):\n",
    "    def __init__(self, in_dim, hidden_dim, out_dim):\n",
    "        super().__init__()\n",
    "        self.prenet = nn.Conv1d(in_dim, hidden_dim, kernel_size=1)\n",
    "        self.encoder = attentions.Encoder(\n",
    "                       hidden_channels=hidden_dim,\n",
    "                       filter_channels=hidden_dim*4,\n",
    "                       n_heads=2,\n",
    "                       n_layers=6,\n",
    "                       kernel_size=3,\n",
    "                       p_dropout=0.1,\n",
    "                       window_size=4,\n",
    "                       block_length=None,\n",
    "                       )\n",
    "        self.postnet = nn.Conv1d(hidden_dim, out_dim*2, kernel_size=1)\n",
    "        \n",
    "    def forward(self, x):\n",
    "        x = self.prenet(x)\n",
    "        x_mask = torch.ones(x.shape[0], 1, x.shape[2]).to(x.device)\n",
    "        x = self.encoder(x, x_mask)\n",
    "        x = self.postnet(x)\n",
    "        m, logs = x.split(x.shape[1]//2, dim=1)\n",
    "        return m, logs\n",
    "    \n",
    "class Decoder(nn.Module):\n",
    "    def __init__(self, in_dim, hidden_dim, n_split):\n",
    "        super().__init__()\n",
    "        self.decoder = FlowSpecDecoder(in_channels=in_dim, \n",
    "                       hidden_channels=hidden_dim,\n",
    "                       kernel_size=5, \n",
    "                       dilation_rate=1, \n",
    "                       n_blocks=12, \n",
    "                       n_layers=4, \n",
    "                       p_dropout=0.05, \n",
    "                       n_split=n_split,\n",
    "                       n_sqz=1,\n",
    "                       sigmoid_scale=False,\n",
    "                       gin_channels=0)\n",
    "        \n",
    "    def forward(self, x):\n",
    "        z_mask = torch.ones(x.shape[0], 1, x.shape[2]).to(x.device)\n",
    "        z, logdet = self.decoder(x, z_mask)\n",
    "        return z, logdet\n",
    "    \n",
    "    def inference(self, z):\n",
    "        z_mask = torch.ones(z.shape[0], 1, z.shape[2]).to(z.device)\n",
    "        x, _ = self.decoder(z, z_mask, reverse=True)\n",
    "        return x\n",
    "    \n",
    "def mle_loss(z, m, logs, logdet):\n",
    "    l = torch.sum(logs) + 0.5 * torch.sum(torch.exp(-2 * logs) * ((z - m)**2)) # neg normal likelihood w/o the constant term\n",
    "    l = l - torch.sum(logdet) # log jacobian determinant\n",
    "    l = l / torch.sum(torch.ones_like(z)) # averaging across batch, channel and time axes\n",
    "    l = l + 0.5 * math.log(2 * math.pi) # add the remaining constant term\n",
    "    return l\n",
    "\n",
    "class Model(nn.Module):\n",
    "    def __init__(self, in_dim, enc_hidden_dim, out_dim, dec_hidden_dim, n_split=4):\n",
    "        super().__init__()\n",
    "        if out_dim % n_split != 0:\n",
    "            padded_out_dim = math.ceil(out_dim / n_split) * n_split\n",
    "        else:\n",
    "            padded_out_dim = out_dim\n",
    "        self.out_dim = out_dim\n",
    "        self.padded_out_dim = padded_out_dim\n",
    "        self.encoder = Encoder(in_dim, enc_hidden_dim, padded_out_dim)\n",
    "        self.decoder = Decoder(padded_out_dim, dec_hidden_dim, n_split)\n",
    "        self.n_split = n_split\n",
    "        \n",
    "    def forward(self, x, y):\n",
    "        if y.shape[1] != self.padded_out_dim:           \n",
    "            y = F.pad(y, (0, 0, 0, self.padded_out_dim - self.out_dim))\n",
    "        m, logs = self.encoder(x)\n",
    "        z, logdet = self.decoder(y)\n",
    "        loss = mle_loss(z, m, logs, logdet)\n",
    "        data = {'m': m,\n",
    "                'logs': logs,\n",
    "                'z': z\n",
    "                'loss': loss,\n",
    "               }\n",
    "        return data\n",
    "    \n",
    "    def inference(self, x, temperature=1.0):\n",
    "        m, logs = self.encoder(x)\n",
    "        z = m + torch.randn_like(logs.exp())*temperature\n",
    "        y = self.decoder.inference(z)\n",
    "        y = y[:, :self.out_dim]\n",
    "        return y\n"
   ]
  },
  {
   "cell_type": "code",
   "execution_count": 61,
   "id": "2f60db0b",
   "metadata": {},
   "outputs": [],
   "source": [
    "model = Model(80, 256, 61, 256)"
   ]
  },
  {
   "cell_type": "code",
   "execution_count": 62,
   "id": "1450362b",
   "metadata": {},
   "outputs": [
    {
     "name": "stdout",
     "output_type": "stream",
     "text": [
      "tensor(2.1795, grad_fn=<AddBackward0>)\n"
     ]
    }
   ],
   "source": [
    "x = torch.randn(2, 80, 100)\n",
    "y = torch.randn(2, 61, 100)\n",
    "loss = model(x, y)\n",
    "print(loss)"
   ]
  },
  {
   "cell_type": "code",
   "execution_count": 63,
   "id": "9a675c01",
   "metadata": {},
   "outputs": [
    {
     "name": "stdout",
     "output_type": "stream",
     "text": [
      "torch.Size([2, 61, 100])\n"
     ]
    }
   ],
   "source": [
    "y = model.inference(x)\n",
    "print(y.shape)"
   ]
  },
  {
   "cell_type": "code",
   "execution_count": null,
   "id": "09c23511",
   "metadata": {},
   "outputs": [],
   "source": []
  },
  {
   "cell_type": "code",
   "execution_count": null,
   "id": "88f2235f",
   "metadata": {},
   "outputs": [],
   "source": []
  },
  {
   "cell_type": "code",
   "execution_count": null,
   "id": "58f4e499",
   "metadata": {},
   "outputs": [],
   "source": []
  }
 ],
 "metadata": {
  "kernelspec": {
   "display_name": "Python 3 (ipykernel)",
   "language": "python",
   "name": "python3"
  },
  "language_info": {
   "codemirror_mode": {
    "name": "ipython",
    "version": 3
   },
   "file_extension": ".py",
   "mimetype": "text/x-python",
   "name": "python",
   "nbconvert_exporter": "python",
   "pygments_lexer": "ipython3",
   "version": "3.9.12"
  }
 },
 "nbformat": 4,
 "nbformat_minor": 5
}
