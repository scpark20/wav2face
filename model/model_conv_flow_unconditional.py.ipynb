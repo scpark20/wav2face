{
 "cells": [
  {
   "cell_type": "code",
   "execution_count": 19,
   "id": "ec1e87ab",
   "metadata": {},
   "outputs": [],
   "source": [
    "import numpy as np\n",
    "import torch\n",
    "import torch.nn as nn\n",
    "import torch.nn.functional as F\n",
    "from conv_flow_unconditional import Flow1d\n",
    "from transformer import Encoder\n",
    "\n",
    "class MelEncoder(nn.Module):\n",
    "    def __init__(self, in_channels, hidden_channels, out_channels):\n",
    "        super().__init__()\n",
    "        self.in_layer = nn.Conv1d(in_channels, hidden_channels, kernel_size=1)\n",
    "        self.encoder = Encoder(hidden_channels=hidden_channels, filter_channels=hidden_channels*4,\n",
    "                               n_heads=4, n_layers=6, kernel_size=3, p_dropout=0.1, window_size=4)\n",
    "        self.out_layer = nn.Conv1d(hidden_channels, out_channels*2, kernel_size=1)\n",
    "\n",
    "    def forward(self, x):\n",
    "        x = self.in_layer(x)\n",
    "        x_mask = torch.ones(x.size(0), 1, x.size(2)).to(x.device)\n",
    "        x = self.encoder(x, x_mask)\n",
    "        x = self.out_layer(x)\n",
    "        mean, logstd = x.split(x.size(1)//2, dim=1)\n",
    "        return mean, logstd\n",
    "\n",
    "class Model(nn.Module):\n",
    "    def __init__(self, channels, cond_channels, hidden_channels, n_layers):\n",
    "        super().__init__()\n",
    "        self.original_channels = channels\n",
    "        if not channels % 2 == 0:\n",
    "            channels = channels + 1\n",
    "        self.channels = channels\n",
    "        self.flow_layers = nn.ModuleList([Flow1d(channels, hidden_channels) for _ in range(n_layers)])\n",
    "        self.inverse_init = False\n",
    "        self.encoder = MelEncoder(cond_channels, hidden_channels, channels)\n",
    "        \n",
    "    def forward(self, x, cond):\n",
    "        \n",
    "        if x.size(1) < self.channels:\n",
    "            x = F.pad(x, (0, 0, 0, self.channels - x.size(1)))\n",
    "        \n",
    "        z = x\n",
    "        log_det = 0\n",
    "        for flow_layer in self.flow_layers:\n",
    "            z, dlog_det = flow_layer(z)\n",
    "            log_det = log_det + dlog_det\n",
    "            \n",
    "        mean, logstd = self.encoder(cond)\n",
    "        loss = self.get_loss(mean, logstd, z, log_det)\n",
    "        data = {'z': z,\n",
    "                'log_det': log_det,\n",
    "                'mean': mean,\n",
    "                'logstd': logstd,\n",
    "                'loss': loss\n",
    "               }\n",
    "        \n",
    "        return data\n",
    "    \n",
    "    def get_loss(self, mean, logstd, z, log_det):\n",
    "        dim = z.size(1) * z.size(2)\n",
    "        l1 = -logstd\n",
    "        l2 = -0.5 * np.log(2*np.pi)\n",
    "        l3 = -0.5 * torch.exp(-2*logstd) * (z - mean)**2\n",
    "        log_likelihood = torch.sum(l1 + l2 + l3, dim=(1, 2)) + log_det\n",
    "        loss = torch.mean(-log_likelihood / dim)\n",
    "        return loss\n",
    "    \n",
    "    def inference(self, cond):\n",
    "        if not self.inverse_init:\n",
    "            self.inverse_init = True\n",
    "            self.set_inverse()\n",
    "\n",
    "        mean, logstd = self.encoder(cond)\n",
    "        z = mean + torch.randn_like(logstd) * logstd.exp()\n",
    "        x = self.inverse(z)\n",
    "        x = x[:, :self.original_channels]\n",
    "        return x\n",
    "        \n",
    "    def inverse(self, z):\n",
    "        x = z\n",
    "        for flow_layer in reversed(self.flow_layers):\n",
    "            x = flow_layer.inverse(x)\n",
    "        return x\n",
    "    \n",
    "    def set_inverse(self):\n",
    "        for flow_layer in self.flow_layers:\n",
    "            flow_layer.set_inverse()"
   ]
  },
  {
   "cell_type": "code",
   "execution_count": 20,
   "id": "eb41bc2a",
   "metadata": {},
   "outputs": [
    {
     "name": "stdout",
     "output_type": "stream",
     "text": [
      "z torch.Size([2, 62, 100])\n",
      "log_det torch.Size([])\n",
      "mean torch.Size([2, 62, 100])\n",
      "logstd torch.Size([2, 62, 100])\n",
      "loss torch.Size([])\n"
     ]
    }
   ],
   "source": [
    "model = Model(channels=61, cond_channels=16, hidden_channels=256, n_layers=8)\n",
    "x = torch.randn(2, 61, 100)\n",
    "cond = torch.randn(2, 16, 100)\n",
    "outputs = model(x, cond)\n",
    "for key in outputs:\n",
    "    print(key, outputs[key].shape)"
   ]
  },
  {
   "cell_type": "code",
   "execution_count": 22,
   "id": "51b1c248",
   "metadata": {},
   "outputs": [
    {
     "name": "stdout",
     "output_type": "stream",
     "text": [
      "torch.Size([2, 61, 100])\n"
     ]
    }
   ],
   "source": [
    "x_recon = model.inference(cond)\n",
    "print(x_recon.shape)"
   ]
  },
  {
   "cell_type": "code",
   "execution_count": null,
   "id": "17cdf76d",
   "metadata": {},
   "outputs": [],
   "source": []
  },
  {
   "cell_type": "code",
   "execution_count": null,
   "id": "3acc0515",
   "metadata": {},
   "outputs": [],
   "source": []
  },
  {
   "cell_type": "code",
   "execution_count": null,
   "id": "6862883c",
   "metadata": {},
   "outputs": [],
   "source": []
  },
  {
   "cell_type": "code",
   "execution_count": null,
   "id": "4afbf805",
   "metadata": {},
   "outputs": [],
   "source": []
  }
 ],
 "metadata": {
  "kernelspec": {
   "display_name": "ste",
   "language": "python",
   "name": "ste"
  },
  "language_info": {
   "codemirror_mode": {
    "name": "ipython",
    "version": 3
   },
   "file_extension": ".py",
   "mimetype": "text/x-python",
   "name": "python",
   "nbconvert_exporter": "python",
   "pygments_lexer": "ipython3",
   "version": "3.9.12"
  }
 },
 "nbformat": 4,
 "nbformat_minor": 5
}
