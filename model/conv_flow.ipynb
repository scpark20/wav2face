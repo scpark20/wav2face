{
 "cells": [
  {
   "cell_type": "code",
   "execution_count": 1,
   "id": "49392480",
   "metadata": {},
   "outputs": [
    {
     "name": "stderr",
     "output_type": "stream",
     "text": [
      "/home/scpark/anaconda3/envs/ste/lib/python3.9/site-packages/tqdm/auto.py:22: TqdmWarning: IProgress not found. Please update jupyter and ipywidgets. See https://ipywidgets.readthedocs.io/en/stable/user_install.html\n",
      "  from .autonotebook import tqdm as notebook_tqdm\n"
     ]
    }
   ],
   "source": [
    "import numpy as np\n",
    "import torch\n",
    "import torch.nn as nn\n",
    "import torch.nn.functional as F\n",
    "\n",
    "def split(x):\n",
    "    c = x.size(1) // 2\n",
    "    y1 = x[:, :c]\n",
    "    y2 = x[:, c:]\n",
    "    \n",
    "    return y1, y2\n",
    "    \n",
    "def merge(y1, y2):\n",
    "    x = torch.cat([y1, y2], dim=1)\n",
    "    \n",
    "    return x\n",
    "\n",
    "class Permutation1d(nn.Module):\n",
    "    def __init__(self, c):\n",
    "        super().__init__()\n",
    "        \n",
    "        # Sample a random orthonormal matrix to initialize weights\n",
    "        W = torch.qr(torch.FloatTensor(c, c).normal_())[0]\n",
    "        \n",
    "        # Ensure determinant is 1.0 not -1.0\n",
    "        if torch.det(W) < 0:\n",
    "            W[:,0] = -1 * W[:,0]\n",
    "        #W = torch.eye(c)\n",
    "        self.W = nn.Parameter(W)\n",
    "        \n",
    "    def forward(self, x):\n",
    "        batch, channel, time = x.size()\n",
    "\n",
    "        log_det_W = torch.slogdet(self.W)[1]\n",
    "        dlog_det = time * log_det_W\n",
    "        y = F.conv1d(x, self.W[:, :, None])\n",
    "\n",
    "        return y, dlog_det\n",
    "        \n",
    "    def set_inverse(self):\n",
    "        self.W_inverse = self.W.inverse()\n",
    "        \n",
    "    def inverse(self, y):\n",
    "        x = F.conv1d(y, self.W_inverse[:, :, None])\n",
    "        \n",
    "        return x"
   ]
  },
  {
   "cell_type": "code",
   "execution_count": 2,
   "id": "bb7706ed",
   "metadata": {},
   "outputs": [],
   "source": [
    "class ConditionedConv1d(nn.Module):\n",
    "    def __init__(self, in_channels, cond_channels, out_channels, kernel_size=3, stride=1, padding=1):\n",
    "        super().__init__()\n",
    "        self.c = out_channels\n",
    "        self.filter_out = nn.Conv1d(in_channels=in_channels+cond_channels, out_channels=out_channels*2, \n",
    "                              kernel_size=kernel_size, stride=stride, padding=padding, bias=False)      \n",
    "        self.filter_out.weight.data.normal_(0, 0.02)\n",
    "        \n",
    "    def forward(self, x, cond):\n",
    "        # x: (B, C, T)\n",
    "        # cond: (B, C, T)\n",
    "        y = self.filter_out(torch.cat([x, cond], dim=1))\n",
    "        y = F.tanh(y[:, :self.c]) * torch.sigmoid(y[:, self.c:])\n",
    "        \n",
    "        return y"
   ]
  },
  {
   "cell_type": "code",
   "execution_count": 3,
   "id": "c83b0cd9",
   "metadata": {},
   "outputs": [],
   "source": [
    "class NonLinear1d(nn.Module):\n",
    "    def __init__(self, channels, cond_channels, hidden_channels):\n",
    "        super().__init__()\n",
    "        self.convs = nn.ModuleList([ConditionedConv1d(in_channels=channels, cond_channels=cond_channels, out_channels=hidden_channels,\n",
    "                                                     kernel_size=3, stride=1, padding=1),\n",
    "                                    ConditionedConv1d(in_channels=hidden_channels, cond_channels=cond_channels, out_channels=hidden_channels,\n",
    "                                                     kernel_size=1, stride=1, padding=0)])\n",
    "        \n",
    "        self.last_conv = nn.Conv1d(in_channels=hidden_channels, out_channels=channels, kernel_size=3, stride=1, padding=1, bias=True)\n",
    "        self.last_conv.weight.data.zero_()\n",
    "        self.last_conv.bias.data.zero_()\n",
    "        \n",
    "    def forward(self, x, cond):\n",
    "        # x: (B, C, T)\n",
    "        # cond: (B, C, T)\n",
    "        \n",
    "        # (B, C, T)\n",
    "        for i, conv in enumerate(self.convs):\n",
    "            if i == 0:\n",
    "                x = conv(x, cond)\n",
    "            else:\n",
    "                x = x + conv(x, cond)\n",
    "        \n",
    "        x = self.last_conv(x)\n",
    "        \n",
    "        return x"
   ]
  },
  {
   "cell_type": "code",
   "execution_count": 4,
   "id": "f89c07cc",
   "metadata": {},
   "outputs": [],
   "source": [
    "class Flow1d(nn.Module):\n",
    "    def __init__(self, channels, cond_channels, hidden_channels):\n",
    "        super().__init__()\n",
    "        self.permutation = Permutation1d(channels)\n",
    "        self.non_linear = NonLinear1d(channels//2, cond_channels, hidden_channels)\n",
    "        \n",
    "    def forward(self, x, cond):\n",
    "\n",
    "        # Permutation\n",
    "        y, log_det_W = self.permutation(x)\n",
    "        # Split\n",
    "        y1, y2 = split(y)\n",
    "        # Transform\n",
    "        m = self.non_linear(y1, cond)\n",
    "        y2 = y2 + m\n",
    "        \n",
    "        # Merge\n",
    "        y = merge(y1, y2)\n",
    "        # Log-Determinant\n",
    "        log_det = log_det_W\n",
    "        \n",
    "        return y, log_det\n",
    "    \n",
    "    def set_inverse(self):\n",
    "        self.permutation.set_inverse()\n",
    "    \n",
    "    def inverse(self, y, cond):\n",
    "        # Split\n",
    "        x1, x2 = split(y)\n",
    "        # Inverse-Transform\n",
    "        m = self.non_linear(x1, cond)\n",
    "        x2 = x2 - m\n",
    "        # Merge\n",
    "        x = merge(x1, x2)\n",
    "        # Inverse-Permutation\n",
    "        x = self.permutation.inverse(x)\n",
    "        \n",
    "        return x\n",
    "    "
   ]
  },
  {
   "cell_type": "code",
   "execution_count": 73,
   "id": "9d717796",
   "metadata": {},
   "outputs": [],
   "source": [
    "class FlowModel(nn.Module):\n",
    "    def __init__(self, channels, cond_channels, hidden_channels, n_layers):\n",
    "        super().__init__()\n",
    "        self.channels = channels\n",
    "        self.flow_layers = nn.ModuleList([Flow1d(channels, cond_channels, hidden_channels) for _ in range(n_layers)])\n",
    "        self.inverse_init = False\n",
    "        \n",
    "    def forward(self, x, cond):\n",
    "        \n",
    "        z = x\n",
    "        log_det = 0\n",
    "        for flow_layer in self.flow_layers:\n",
    "            z, dlog_det = flow_layer(z, cond)\n",
    "            log_det = log_det + dlog_det\n",
    "            \n",
    "        loss = self.get_loss(z, log_det)\n",
    "        data = {'z': z,\n",
    "                'log_det': log_det,\n",
    "                'loss': loss\n",
    "               }\n",
    "        return data\n",
    "    \n",
    "    def get_loss(self, z, log_det):\n",
    "        dim = z.size(1) * z.size(2)\n",
    "        log_likelihood = torch.sum(-0.5 * (np.log(2*np.pi) + z**2), dim=(1, 2)) + log_det\n",
    "        loss = torch.mean(-log_likelihood / dim)\n",
    "        return loss\n",
    "    \n",
    "    def inference(self, cond):\n",
    "        if not self.inverse_init:\n",
    "            self.inverse_init = True\n",
    "            self.set_inverse()\n",
    "\n",
    "        z = torch.randn(cond.shape[0], self.channels, cond.shape[2])\n",
    "        x = self.inverse(z, cond)\n",
    "        return x\n",
    "        \n",
    "    def inverse(self, z, cond):\n",
    "        x = z\n",
    "        for flow_layer in reversed(self.flow_layers):\n",
    "            x = flow_layer.inverse(x, cond)\n",
    "        return x\n",
    "    \n",
    "    def set_inverse(self):\n",
    "        for flow_layer in self.flow_layers:\n",
    "            flow_layer.set_inverse()"
   ]
  },
  {
   "cell_type": "code",
   "execution_count": 74,
   "id": "b801b424",
   "metadata": {
    "scrolled": true
   },
   "outputs": [],
   "source": [
    "flow = FlowModel(62, 16, 128, 4)\n",
    "flow.set_inverse()\n",
    "\n",
    "x = torch.randn(2, 62, 100)\n",
    "cond = torch.randn(2, 16, 100)\n",
    "outputs = flow(x, cond)\n",
    "x2 = flow.inverse(outputs['z'], cond)"
   ]
  },
  {
   "cell_type": "code",
   "execution_count": 80,
   "id": "1d733a3a",
   "metadata": {},
   "outputs": [
    {
     "data": {
      "text/plain": [
       "tensor([[[ 0.9094, -0.9566, -0.4663,  ...,  0.9501,  1.2360,  2.0946],\n",
       "         [ 0.6283,  0.6162,  0.4864,  ...,  1.2429,  0.3654, -3.7170],\n",
       "         [-0.0999, -0.6048,  0.1541,  ...,  0.1173,  0.7031, -1.1231],\n",
       "         ...,\n",
       "         [-2.0162,  0.8025, -0.5839,  ..., -1.7456, -0.3185,  1.1787],\n",
       "         [ 0.0261,  0.4257,  0.7985,  ..., -0.3326, -2.0682,  3.2813],\n",
       "         [-1.0040,  0.3287,  1.1457,  ..., -1.0747, -0.6557, -0.9607]],\n",
       "\n",
       "        [[ 1.6326, -0.3635,  0.5933,  ...,  0.1177,  0.8728,  0.9375],\n",
       "         [ 2.5529,  0.0835, -0.2958,  ..., -0.5103, -0.3954, -0.7982],\n",
       "         [ 0.1695,  1.9433, -0.6700,  ...,  0.8310,  0.1287, -0.3896],\n",
       "         ...,\n",
       "         [-0.8056, -1.3714,  1.0232,  ...,  0.2947, -0.1565, -1.2067],\n",
       "         [ 0.6961,  2.1302,  0.1545,  ..., -0.6888, -0.6213,  0.6619],\n",
       "         [ 0.8564, -0.0458, -0.5370,  ...,  1.0753, -1.5578, -2.3208]]])"
      ]
     },
     "execution_count": 80,
     "metadata": {},
     "output_type": "execute_result"
    }
   ],
   "source": [
    "x"
   ]
  },
  {
   "cell_type": "code",
   "execution_count": 75,
   "id": "632025fe",
   "metadata": {},
   "outputs": [
    {
     "data": {
      "text/plain": [
       "tensor([[[ 0.9094, -0.9566, -0.4663,  ...,  0.9501,  1.2360,  2.0946],\n",
       "         [ 0.6283,  0.6162,  0.4864,  ...,  1.2429,  0.3654, -3.7170],\n",
       "         [-0.0999, -0.6048,  0.1541,  ...,  0.1173,  0.7031, -1.1231],\n",
       "         ...,\n",
       "         [-2.0162,  0.8025, -0.5839,  ..., -1.7456, -0.3185,  1.1787],\n",
       "         [ 0.0261,  0.4257,  0.7985,  ..., -0.3326, -2.0682,  3.2813],\n",
       "         [-1.0040,  0.3287,  1.1457,  ..., -1.0747, -0.6557, -0.9607]],\n",
       "\n",
       "        [[ 1.6326, -0.3635,  0.5933,  ...,  0.1177,  0.8728,  0.9375],\n",
       "         [ 2.5529,  0.0835, -0.2958,  ..., -0.5103, -0.3954, -0.7982],\n",
       "         [ 0.1695,  1.9433, -0.6700,  ...,  0.8310,  0.1287, -0.3896],\n",
       "         ...,\n",
       "         [-0.8056, -1.3714,  1.0232,  ...,  0.2947, -0.1565, -1.2067],\n",
       "         [ 0.6961,  2.1302,  0.1545,  ..., -0.6888, -0.6213,  0.6619],\n",
       "         [ 0.8564, -0.0458, -0.5370,  ...,  1.0753, -1.5578, -2.3208]]],\n",
       "       grad_fn=<ConvolutionBackward0>)"
      ]
     },
     "execution_count": 75,
     "metadata": {},
     "output_type": "execute_result"
    }
   ],
   "source": [
    "x2"
   ]
  },
  {
   "cell_type": "code",
   "execution_count": 76,
   "id": "ffb7a8ea",
   "metadata": {},
   "outputs": [
    {
     "data": {
      "text/plain": [
       "False"
      ]
     },
     "execution_count": 76,
     "metadata": {},
     "output_type": "execute_result"
    }
   ],
   "source": [
    "torch.allclose(x, x2)"
   ]
  },
  {
   "cell_type": "code",
   "execution_count": 77,
   "id": "ddbd219f",
   "metadata": {},
   "outputs": [
    {
     "data": {
      "text/plain": [
       "True"
      ]
     },
     "execution_count": 77,
     "metadata": {},
     "output_type": "execute_result"
    }
   ],
   "source": [
    "torch.allclose(x[0, 0, 0], x2[0, 0, 0])"
   ]
  },
  {
   "cell_type": "code",
   "execution_count": 78,
   "id": "66268a3d",
   "metadata": {},
   "outputs": [
    {
     "data": {
      "text/plain": [
       "(tensor(0.9094), tensor(0.9094, grad_fn=<SelectBackward0>))"
      ]
     },
     "execution_count": 78,
     "metadata": {},
     "output_type": "execute_result"
    }
   ],
   "source": [
    "x[0, 0, 0], x2[0, 0, 0]"
   ]
  },
  {
   "cell_type": "code",
   "execution_count": 81,
   "id": "ff55bbfc",
   "metadata": {},
   "outputs": [
    {
     "data": {
      "text/plain": [
       "tensor(1.4218, grad_fn=<MeanBackward0>)"
      ]
     },
     "execution_count": 81,
     "metadata": {},
     "output_type": "execute_result"
    }
   ],
   "source": [
    "outputs['loss']"
   ]
  },
  {
   "cell_type": "code",
   "execution_count": null,
   "id": "488d1f37",
   "metadata": {},
   "outputs": [],
   "source": []
  },
  {
   "cell_type": "code",
   "execution_count": null,
   "id": "f8815c54",
   "metadata": {},
   "outputs": [],
   "source": []
  }
 ],
 "metadata": {
  "kernelspec": {
   "display_name": "ste",
   "language": "python",
   "name": "ste"
  },
  "language_info": {
   "codemirror_mode": {
    "name": "ipython",
    "version": 3
   },
   "file_extension": ".py",
   "mimetype": "text/x-python",
   "name": "python",
   "nbconvert_exporter": "python",
   "pygments_lexer": "ipython3",
   "version": "3.9.12"
  }
 },
 "nbformat": 4,
 "nbformat_minor": 5
}
