{
 "cells": [
  {
   "cell_type": "code",
   "execution_count": 1,
   "id": "1b3c3682",
   "metadata": {},
   "outputs": [],
   "source": [
    "import warnings\n",
    "warnings.filterwarnings('ignore')"
   ]
  },
  {
   "cell_type": "code",
   "execution_count": 8,
   "id": "b03dea42",
   "metadata": {},
   "outputs": [],
   "source": [
    "save_dir = '/data/speech/digital_human/preprocessed/'\n",
    "!mkdir $save_dir"
   ]
  },
  {
   "cell_type": "code",
   "execution_count": 9,
   "id": "90e3178e",
   "metadata": {},
   "outputs": [],
   "source": [
    "import pandas as pd\n",
    "\n",
    "def convert_to_seconds(time_str):\n",
    "    time_parts = list(map(float, time_str.split(':')))\n",
    "    hours = time_parts[0] * 3600  # 1시간은 3600초입니다.\n",
    "    minutes = time_parts[1] * 60  # 1분은 60초입니다.\n",
    "    seconds = time_parts[2]\n",
    "    frames = time_parts[3] / 60  # FPS가 60이므로, 각 프레임은 1/60초를 나타냅니다.\n",
    "\n",
    "    total_seconds = hours + minutes + seconds + frames\n",
    "    return total_seconds\n",
    "\n",
    "def read_csv(csv_file):\n",
    "    df = pd.read_csv(csv_file)\n",
    "    df['Seconds'] = df['Timecode'].apply(convert_to_seconds)\n",
    "    df['Seconds'] = df['Seconds'].apply(lambda x: x - df['Seconds'][0])\n",
    "    if 'Timecode' in df.columns:\n",
    "        df = df.drop(columns=['Timecode'])\n",
    "    if 'BlendShapeCount' in df.columns:    \n",
    "        df = df.drop(columns=['BlendShapeCount'])\n",
    "    if 'BlendshapeCount' in df.columns:\n",
    "        df = df.drop(columns=['BlendshapeCount'])\n",
    "    ndf = pd.DataFrame(columns=df.columns)\n",
    "    i = 0\n",
    "    prev_j = 0\n",
    "    while True:\n",
    "        s = i / 30\n",
    "        finded = False\n",
    "        for j in range(prev_j, len(df)-2):\n",
    "            ls = df['Seconds'][j]\n",
    "            rs = df['Seconds'][j+1]\n",
    "            if s >= ls and s < rs:\n",
    "                prev_j = j\n",
    "                v = df.iloc[j]\n",
    "                finded = True\n",
    "                break\n",
    "\n",
    "        if finded:\n",
    "            ndf.loc[len(ndf)] = v\n",
    "        else:\n",
    "            break\n",
    "\n",
    "        i += 1\n",
    "    return ndf"
   ]
  },
  {
   "cell_type": "code",
   "execution_count": 10,
   "id": "8102177a",
   "metadata": {
    "scrolled": true
   },
   "outputs": [
    {
     "name": "stdout",
     "output_type": "stream",
     "text": [
      "86\n"
     ]
    }
   ],
   "source": [
    "import os\n",
    "\n",
    "root_dir = '/data/speech/DigitalHuman/ml'\n",
    "\n",
    "def find_pair_files(root_dir):\n",
    "    data = []\n",
    "    files = [os.path.join(root_dir, file) for file in os.listdir(root_dir)]\n",
    "    pair_file = [None, None]\n",
    "    for file in files:\n",
    "        if os.path.isdir(file):\n",
    "            d = find_pair_files(file)\n",
    "            if len(d) > 0:\n",
    "                data.extend(d)\n",
    "        if file.endswith('_raw.csv'):\n",
    "            pair_file[0] = os.path.join(root_dir, file)\n",
    "        if file.endswith('.mov'):\n",
    "            pair_file[1] = os.path.join(root_dir, file)\n",
    "    if pair_file[0] != None and pair_file[1] != None:\n",
    "        data.append(pair_file)\n",
    "    return data\n",
    "            \n",
    "pair_files = find_pair_files(root_dir)\n",
    "print(len(pair_files))"
   ]
  },
  {
   "cell_type": "code",
   "execution_count": 11,
   "id": "d3391c27",
   "metadata": {},
   "outputs": [
    {
     "name": "stdout",
     "output_type": "stream",
     "text": [
      "dict_keys(['kyuchulLee', 'soochulPark', 'jeewonPark', 'nohsikPark', 'jinwooOh', 'yehunHwang', 'kyuseokKim'])\n",
      "total 28\r\n",
      "drwxrwxr-x 2 scpark scpark 4096  8월  7 21:23 jeewonPark\r\n",
      "drwxrwxr-x 2 scpark scpark 4096  8월  7 21:23 jinwooOh\r\n",
      "drwxrwxr-x 2 scpark scpark 4096  8월  7 21:23 kyuseokKim\r\n",
      "drwxrwxr-x 2 scpark scpark 4096  8월  7 21:23 nohsikPark\r\n",
      "drwxrwxr-x 2 scpark scpark 4096  8월  7 21:23 soochulPark\r\n",
      "drwxrwxr-x 2 scpark scpark 4096  8월  7 21:23 yehunHwang\r\n",
      "drwxrwxr-x 2 scpark scpark 4096  8월  7 21:23 kyuchulLee\r\n"
     ]
    }
   ],
   "source": [
    "data_dict = {}\n",
    "for csv, mov in pair_files:\n",
    "    name = csv.split('/')[5] \n",
    "    if name not in data_dict:\n",
    "        data_dict[name] = []\n",
    "    data_dict[name].append([csv, mov])\n",
    "\n",
    "print(data_dict.keys())\n",
    "\n",
    "for key in data_dict:\n",
    "    dir = os.path.join(save_dir, key)\n",
    "    if not os.path.exists(dir):\n",
    "        os.mkdir(dir)\n",
    "    \n",
    "!ls -lt $save_dir"
   ]
  },
  {
   "cell_type": "code",
   "execution_count": null,
   "id": "d0db9458",
   "metadata": {
    "scrolled": true
   },
   "outputs": [
    {
     "name": "stdout",
     "output_type": "stream",
     "text": [
      "kyuchulLee\n",
      "/data/speech/DigitalHuman/ml/kyuchulLee/data/iphone/20230626_MH_ARKit_006_4/MH_ARKit_006_4_iPhone_raw.csv\n",
      "/data/speech/DigitalHuman/ml/kyuchulLee/data/iphone/20230626_MH_ARKit_006_3/MH_ARKit_006_3_iPhone_raw.csv\n",
      "/data/speech/DigitalHuman/ml/kyuchulLee/data/iphone/20230626_MH_ARKit_006_7/MH_ARKit_006_7_iPhone_raw.csv\n",
      "/data/speech/DigitalHuman/ml/kyuchulLee/data/iphone/20230626_MH_ARKit_006_9/MH_ARKit_006_9_iPhone_raw.csv\n",
      "/data/speech/DigitalHuman/ml/kyuchulLee/data/iphone/20230626_MH_ARKit_006_5/MH_ARKit_006_5_iPhone_raw.csv\n",
      "/data/speech/DigitalHuman/ml/kyuchulLee/data/iphone/20230626_MH_ARKit_006_6/MH_ARKit_006_6_iPhone_raw.csv\n",
      "/data/speech/DigitalHuman/ml/kyuchulLee/data/iphone/20230626_MH_ARKit_006_10/MH_ARKit_006_10_iPhone_raw.csv\n",
      "/data/speech/DigitalHuman/ml/kyuchulLee/data/iphone/20230626_MH_ARKit_006_1/MH_ARKit_006_1_iPhone_raw.csv\n",
      "/data/speech/DigitalHuman/ml/kyuchulLee/data/iphone/20230626_MH_ARKit_006_8/MH_ARKit_006_8_iPhone_raw.csv\n",
      "/data/speech/DigitalHuman/ml/kyuchulLee/data/iphone/20230626_MH_ARKit_006_2/MH_ARKit_006_2_iPhone_raw.csv\n",
      "soochulPark\n",
      "/data/speech/DigitalHuman/ml/soochulPark/data/iphone/20230622_MH_ARKit_004_4/MH_ARKit_004_4_iPhone_raw.csv\n",
      "/data/speech/DigitalHuman/ml/soochulPark/data/iphone/20230622_MH_ARKit_004_7/MH_ARKit_004_7_iPhone_raw.csv\n",
      "/data/speech/DigitalHuman/ml/soochulPark/data/iphone/20230622_MH_ARKit_004_2/MH_ARKit_004_2_iPhone_raw.csv\n",
      "/data/speech/DigitalHuman/ml/soochulPark/data/iphone/20230622_MH_ARKit_004_5/MH_ARKit_004_5_iPhone_raw.csv\n",
      "/data/speech/DigitalHuman/ml/soochulPark/data/iphone/20230622_MH_ARKit_004_9/MH_ARKit_004_9_iPhone_raw.csv\n",
      "/data/speech/DigitalHuman/ml/soochulPark/data/iphone/20230622_MH_ARKit_004_1/MH_ARKit_004_1_iPhone_raw.csv\n",
      "/data/speech/DigitalHuman/ml/soochulPark/data/iphone/20230622_MH_ARKit_004_6/MH_ARKit_004_6_iPhone_raw.csv\n",
      "/data/speech/DigitalHuman/ml/soochulPark/data/iphone/20230622_MH_ARKit_004_8/MH_ARKit_004_8_iPhone_raw.csv\n",
      "/data/speech/DigitalHuman/ml/soochulPark/data/iphone/20230622_MH_ARKit_004_3/MH_ARKit_004_3_iPhone_raw.csv\n",
      "/data/speech/DigitalHuman/ml/soochulPark/data/iphone/20230622_MH_ARKit_004_10/MH_ARKit_004_10_iPhone_raw.csv\n",
      "jeewonPark\n",
      "/data/speech/DigitalHuman/ml/jeewonPark/data/iphone/20230622_MH_ARKit_003_3/MH_ARKit_003_3_iPhone_raw.csv\n",
      "/data/speech/DigitalHuman/ml/jeewonPark/data/iphone/20230622_MH_ARKit_003_12/MH_ARKit_003_12_iPhone_raw.csv\n",
      "/data/speech/DigitalHuman/ml/jeewonPark/data/iphone/20230622_MH_ARKit_003_10/MH_ARKit_003_10_iPhone_raw.csv\n",
      "/data/speech/DigitalHuman/ml/jeewonPark/data/iphone/20230622_MH_ARKit_003_1/MH_ARKit_003_1_iPhone_raw.csv\n",
      "/data/speech/DigitalHuman/ml/jeewonPark/data/iphone/20230622_MH_ARKit_003_9/MH_ARKit_003_9_iPhone_raw.csv\n",
      "/data/speech/DigitalHuman/ml/jeewonPark/data/iphone/20230622_MH_ARKit_003_2/MH_ARKit_003_2_iPhone_raw.csv\n",
      "/data/speech/DigitalHuman/ml/jeewonPark/data/iphone/20230622_MH_ARKit_003_8/MH_ARKit_003_8_iPhone_raw.csv\n",
      "/data/speech/DigitalHuman/ml/jeewonPark/data/iphone/20230622_MH_ARKit_003_4/MH_ARKit_003_4_iPhone_raw.csv\n",
      "/data/speech/DigitalHuman/ml/jeewonPark/data/iphone/20230622_MH_ARKit_003_5/MH_ARKit_003_5_iPhone_raw.csv\n",
      "/data/speech/DigitalHuman/ml/jeewonPark/data/iphone/20230622_MH_ARKit_003_11/MH_ARKit_003_11_iPhone_raw.csv\n",
      "nohsikPark\n",
      "/data/speech/DigitalHuman/ml/nohsikPark/data/iphone/20230803_MH_ARKit_010_1/MH_ARKit_010_1_iPhone_raw.csv\n",
      "/data/speech/DigitalHuman/ml/nohsikPark/data/iphone/20230803_MH_ARKit_010_5/MH_ARKit_010_5_iPhone_raw.csv\n",
      "/data/speech/DigitalHuman/ml/nohsikPark/data/iphone/20230803_MH_ARKit_010_6/MH_ARKit_010_6_iPhone_raw.csv\n",
      "/data/speech/DigitalHuman/ml/nohsikPark/data/iphone/20230803_MH_ARKit_010_4/MH_ARKit_010_4_iPhone_raw.csv\n",
      "/data/speech/DigitalHuman/ml/nohsikPark/data/iphone/20230803_MH_ARKit_010_0/MH_ARKit_010_0_iPhone_raw.csv\n",
      "/data/speech/DigitalHuman/ml/nohsikPark/data/iphone/20230803_MH_ARKit_010_7/MH_ARKit_010_7_iPhone_raw.csv\n",
      "/data/speech/DigitalHuman/ml/nohsikPark/data/iphone/20230803_MH_ARKit_010_8/MH_ARKit_010_8_iPhone_raw.csv\n",
      "/data/speech/DigitalHuman/ml/nohsikPark/data/iphone/20230803_MH_ARKit_010_3/MH_ARKit_010_3_iPhone_raw.csv\n",
      "/data/speech/DigitalHuman/ml/nohsikPark/data/iphone/20230803_MH_ARKit_010_2/MH_ARKit_010_2_iPhone_raw.csv\n",
      "jinwooOh\n",
      "/data/speech/DigitalHuman/ml/jinwooOh/data/iphone/20230626_MH_ARKit_005_5/MH_ARKit_005_5_iPhone_raw.csv\n",
      "/data/speech/DigitalHuman/ml/jinwooOh/data/iphone/20230626_MH_ARKit_005_10/MH_ARKit_005_10_iPhone_raw.csv\n",
      "/data/speech/DigitalHuman/ml/jinwooOh/data/iphone/20230626_MH_ARKit_005_1/MH_ARKit_005_1_iPhone_raw.csv\n",
      "/data/speech/DigitalHuman/ml/jinwooOh/data/iphone/20230626_MH_ARKit_005_2/MH_ARKit_005_2_iPhone_raw.csv\n",
      "/data/speech/DigitalHuman/ml/jinwooOh/data/iphone/20230626_MH_ARKit_005_3/MH_ARKit_005_3_iPhone_raw.csv\n",
      "/data/speech/DigitalHuman/ml/jinwooOh/data/iphone/20230626_MH_ARKit_005_6/MH_ARKit_005_6_iPhone_raw.csv\n",
      "/data/speech/DigitalHuman/ml/jinwooOh/data/iphone/20230626_MH_ARKit_005_4/MH_ARKit_005_4_iPhone_raw.csv\n",
      "/data/speech/DigitalHuman/ml/jinwooOh/data/iphone/20230626_MH_ARKit_005_9/MH_ARKit_005_9_iPhone_raw.csv\n",
      "/data/speech/DigitalHuman/ml/jinwooOh/data/iphone/20230626_MH_ARKit_005_8/MH_ARKit_005_8_iPhone_raw.csv\n",
      "/data/speech/DigitalHuman/ml/jinwooOh/data/iphone/20230626_MH_ARKit_005_7/MH_ARKit_005_7_iPhone_raw.csv\n",
      "yehunHwang\n",
      "/data/speech/DigitalHuman/ml/yehunHwang/data/iphone/20230720_MH_ARKit_001_31/MH_ARKit_001_31_iPhone_raw.csv\n",
      "/data/speech/DigitalHuman/ml/yehunHwang/data/iphone/20230522_rvh_viseme2_3/rvh_viseme2_3_iPhone_raw.csv\n",
      "/data/speech/DigitalHuman/ml/yehunHwang/data/iphone/error/20230621_MH_ARKit_001_10/MH_ARKit_001_10_iPhone_raw.csv\n",
      "/data/speech/DigitalHuman/ml/yehunHwang/data/iphone/20230621_MH_ARKit_001_3/MH_ARKit_001_3_iPhone_raw.csv\n",
      "/data/speech/DigitalHuman/ml/yehunHwang/data/iphone/20230522_rvh_viseme2_4/rvh_viseme2_4_iPhone_raw.csv\n",
      "/data/speech/DigitalHuman/ml/yehunHwang/data/iphone/20230426_VIV_A2F_1/VIV_A2F_1_iPhone_raw.csv\n",
      "/data/speech/DigitalHuman/ml/yehunHwang/data/iphone/20230724_MH_ARKit_001_51/MH_ARKit_001_51_iPhone_raw.csv\n",
      "/data/speech/DigitalHuman/ml/yehunHwang/data/iphone/20230621_MH_ARKit_001_7/MH_ARKit_001_7_iPhone_raw.csv\n",
      "/data/speech/DigitalHuman/ml/yehunHwang/data/iphone/20230621_MH_ARKit_001_2/MH_ARKit_001_2_iPhone_raw.csv\n",
      "/data/speech/DigitalHuman/ml/yehunHwang/data/iphone/20230621_MH_ARKit_001_8/MH_ARKit_001_8_iPhone_raw.csv\n",
      "/data/speech/DigitalHuman/ml/yehunHwang/data/iphone/20230515_rvh_viseme_3/rvh_viseme_3_iPhone_raw.csv\n",
      "/data/speech/DigitalHuman/ml/yehunHwang/data/iphone/20230522_rvh_viseme2_1/rvh_viseme2_1_iPhone_raw.csv\n",
      "/data/speech/DigitalHuman/ml/yehunHwang/data/iphone/20230515_rvh_viseme_1/rvh_viseme_1_iPhone_raw.csv\n",
      "/data/speech/DigitalHuman/ml/yehunHwang/data/iphone/20230515_rvh_viseme_2/rvh_viseme_2_iPhone_raw.csv\n",
      "/data/speech/DigitalHuman/ml/yehunHwang/data/iphone/20230717_MH_ARKit_001_21/MH_ARKit_001_21_iPhone_raw.csv\n",
      "/data/speech/DigitalHuman/ml/yehunHwang/data/iphone/20230620_MH_ARKit_001_1/MH_ARKit_001_1_iPhone_raw.csv\n",
      "/data/speech/DigitalHuman/ml/yehunHwang/data/iphone/20230515_rvh_viseme_4/rvh_viseme_4_iPhone_raw.csv\n",
      "/data/speech/DigitalHuman/ml/yehunHwang/data/iphone/20230621_MH_ARKit_001_5/MH_ARKit_001_5_iPhone_raw.csv\n",
      "/data/speech/DigitalHuman/ml/yehunHwang/data/iphone/20230721_MH_ARKit_001_40/MH_ARKit_001_40_iPhone_raw.csv\n",
      "/data/speech/DigitalHuman/ml/yehunHwang/data/iphone/20230522_rvh_viseme2_2/rvh_viseme2_2_iPhone_raw.csv\n",
      "/data/speech/DigitalHuman/ml/yehunHwang/data/iphone/20230621_MH_ARKit_001_6/MH_ARKit_001_6_iPhone_raw.csv\n",
      "/data/speech/DigitalHuman/ml/yehunHwang/data/iphone/20230717_MH_ARKit_001_20/MH_ARKit_001_20_iPhone_raw.csv\n",
      "/data/speech/DigitalHuman/ml/yehunHwang/data/iphone/20230621_MH_ARKit_001_4/MH_ARKit_001_4_iPhone_raw.csv\n",
      "/data/speech/DigitalHuman/ml/yehunHwang/data/iphone/20230724_MH_ARKit_001_50/MH_ARKit_001_50_iPhone_raw.csv\n",
      "/data/speech/DigitalHuman/ml/yehunHwang/data/iphone/20230724_MH_ARKit_001_52/MH_ARKit_001_52_iPhone_raw.csv\n",
      "/data/speech/DigitalHuman/ml/yehunHwang/data/iphone/20230621_MH_ARKit_001_9/MH_ARKit_001_9_iPhone_raw.csv\n",
      "/data/speech/DigitalHuman/ml/yehunHwang/data/iphone/20230720_MH_ARKit_001_30/MH_ARKit_001_30_iPhone_raw.csv\n"
     ]
    }
   ],
   "source": [
    "import numpy as np\n",
    "import librosa\n",
    "from multiprocessing.dummy import Pool\n",
    "\n",
    "def f(params):\n",
    "    try:\n",
    "        key, csv_file, mov_file = params\n",
    "        print(csv_file)\n",
    "        save_file = os.path.join(save_dir, key, os.path.basename(csv_file[:-4]))\n",
    "        if os.path.exists(save_file + '.npy'):\n",
    "            return\n",
    "        csv = read_csv(csv_file)\n",
    "        blendshapes = np.array(csv)[:, :61]\n",
    "        wav, _ = librosa.load(mov_file, sr=44100)\n",
    "        data = {'wav': wav,\n",
    "                'blendshapes': blendshapes}\n",
    "        np.save(save_file, data)\n",
    "    except:\n",
    "        return\n",
    "    \n",
    "for key in data_dict:\n",
    "    print(key)\n",
    "    f_list = [(key, pair_file[0], pair_file[1]) for pair_file in data_dict[key]]\n",
    "    with Pool(8) as p:\n",
    "        p.map(f, f_list)"
   ]
  },
  {
   "cell_type": "code",
   "execution_count": null,
   "id": "0a5fa1bc",
   "metadata": {},
   "outputs": [],
   "source": [
    "print('done')"
   ]
  },
  {
   "cell_type": "code",
   "execution_count": null,
   "id": "13ed00d6",
   "metadata": {},
   "outputs": [],
   "source": []
  }
 ],
 "metadata": {
  "kernelspec": {
   "display_name": "Python 3 (ipykernel)",
   "language": "python",
   "name": "python3"
  },
  "language_info": {
   "codemirror_mode": {
    "name": "ipython",
    "version": 3
   },
   "file_extension": ".py",
   "mimetype": "text/x-python",
   "name": "python",
   "nbconvert_exporter": "python",
   "pygments_lexer": "ipython3",
   "version": "3.9.15"
  }
 },
 "nbformat": 4,
 "nbformat_minor": 5
}
